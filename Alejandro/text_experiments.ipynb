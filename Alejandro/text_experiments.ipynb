{
 "cells": [
  {
   "cell_type": "markdown",
   "metadata": {},
   "source": [
    "# Text Experiments\n",
    "---\n",
    "[Alejandro Ciuba](https://alejandrociuba.github.io), alejandrociuba@pitt.edu\n",
    "---\n",
    "## Summary\n",
    "\n",
    "Experiments for the text-only sentiment analysis models. We are trying the following models:\n",
    "- [SVC](#svc)\n",
    "- [Logistic Regression](#logistic-regression)\n",
    "- [Naive Bayes](#naive-bayes)\n",
    "    - [Multinomial](#multinomial-nb)\n",
    "    - [Compliment](#compliment-nb)\n",
    "- [One vs. Rest](#one-vs-rest)\n",
    "- [FFNN](#ffnn)\n",
    "- [LSTM](#lstm)\n",
    "\n",
    "For SVC, Logistic Regression, and both Naive Bayes (which will only accept string inputs and outputs) we will experiment with the following:\n",
    "- Count Vectors\n",
    "- TF-IDF Vectors\n",
    "- Gensim Custom Doc2Vec Vectors\n",
    "- Gensim Custom Doc2Vec Vectors with SMOTE\n",
    "\n",
    "For FFNN and LSTM\n",
    "- Gensim word2vec Vectors via [GoogleNews](https://code.google.com/archive/p/word2vec/)\n",
    "- Gensim word2vec Vectors via [GoogleNews](https://code.google.com/archive/p/word2vec/) with SMOTE\n",
    "---\n",
    "## Setup\n",
    "### Necessary Imports\n",
    "#### Experiment Class & Metrics"
   ]
  },
  {
   "cell_type": "code",
   "execution_count": 1,
   "metadata": {},
   "outputs": [],
   "source": [
    "from experiment import (Experiment,\n",
    "                        plot_confusion_matrix,\n",
    "                        vectorizer, )\n",
    "\n",
    "from sklearn.metrics import (accuracy_score,\n",
    "                             precision_recall_fscore_support,\n",
    "                             confusion_matrix, )"
   ]
  },
  {
   "cell_type": "markdown",
   "metadata": {},
   "source": [
    "#### Models"
   ]
  },
  {
   "cell_type": "code",
   "execution_count": 2,
   "metadata": {},
   "outputs": [],
   "source": [
    "from neural import FFNN\n",
    "from sklearn.linear_model import LogisticRegression\n",
    "from sklearn.multiclass import OneVsRestClassifier\n",
    "from sklearn.naive_bayes import (MultinomialNB,\n",
    "                                 ComplementNB, )\n",
    "from sklearn.svm import SVC"
   ]
  },
  {
   "cell_type": "markdown",
   "metadata": {},
   "source": [
    "#### Other"
   ]
  },
  {
   "cell_type": "code",
   "execution_count": 3,
   "metadata": {},
   "outputs": [],
   "source": [
    "from gensim.models.doc2vec import Doc2Vec\n",
    "from gensim.models import KeyedVectors\n",
    "from gensim.utils import simple_preprocess\n",
    "from nltk import word_tokenize\n",
    "from nltk.corpus import stopwords\n",
    "from sklearn.feature_extraction.text import (CountVectorizer,\n",
    "                                             TfidfVectorizer, )\n",
    "\n",
    "import matplotlib.pyplot as plt\n",
    "import numpy as np\n",
    "import pandas as pd\n",
    "import seaborn as sns"
   ]
  },
  {
   "cell_type": "markdown",
   "metadata": {},
   "source": [
    "### Global Variables & Settings"
   ]
  },
  {
   "cell_type": "code",
   "execution_count": 4,
   "metadata": {},
   "outputs": [],
   "source": [
    "DATA_PATH = \"../data/final-splits.csv\"\n",
    "DATA = pd.read_csv(DATA_PATH, index_col=False)\n",
    "EMOTIONS = DATA.emotion.unique()\n",
    "\n",
    "SEED = 42\n",
    "\n",
    "METRICS = {\"accuracy\": (accuracy_score, {}),\n",
    "           \"precision_recall_fscore_support\": (precision_recall_fscore_support, {\"average\": \"macro\", \"zero_division\": np.nan}),\n",
    "           \"confusion_matrix\": (confusion_matrix, {\"labels\": EMOTIONS}), }\n",
    "\n",
    "RESULTS = {\"experiment\": [],\n",
    "           \"accuracy\": [],\n",
    "           \"precision\": [],\n",
    "           \"recall\": [],\n",
    "           \"f1_score\": [], \n",
    "           \"comments\": [], }\n",
    "\n",
    "# Only run the experiments listed here; empty means run all\n",
    "targets = [\"FFNN/D2V\"]\n",
    "def selected(target):\n",
    "    if target in targets or len(targets) == 0:\n",
    "        return True\n",
    "    return False"
   ]
  },
  {
   "cell_type": "code",
   "execution_count": 5,
   "metadata": {},
   "outputs": [],
   "source": [
    "WTESTS = False  # Include and load word2vec experiments\n",
    "DTESTS = True  # Include and load doc2vec experiments\n",
    "\n",
    "if WTESTS:\n",
    "\n",
    "    WORD2VEC_PATH = \"../data/word2vec/GoogleNews-vectors-negative300.bin\"\n",
    "    W2V: KeyedVectors = KeyedVectors.load_word2vec_format(WORD2VEC_PATH, binary=True)\n",
    "\n",
    "if DTESTS:\n",
    "\n",
    "    DOC2VEC_PATH = \"../data/doc2vec.bin\"\n",
    "    D2V: Doc2Vec = Doc2Vec.load(DOC2VEC_PATH)\n",
    "\n",
    "STOPWORDS = stopwords.words()"
   ]
  },
  {
   "cell_type": "markdown",
   "metadata": {},
   "source": [
    "### Functions"
   ]
  },
  {
   "cell_type": "code",
   "execution_count": 6,
   "metadata": {},
   "outputs": [],
   "source": [
    "def display_results(metrics, experiment, comments):\n",
    "\n",
    "    print(f\"Accuracy: {metrics['accuracy']:.3f}\")\n",
    "    \n",
    "    prec, recall, f1, _ = metrics['precision_recall_fscore_support']\n",
    "\n",
    "    print(f\"Precision: {prec:.3f}\")\n",
    "    print(f\"Recall: {recall:.3f}\")\n",
    "    print(f\"F1-Score: {f1:.3f}\")\n",
    "\n",
    "    plot_confusion_matrix(metrics['confusion_matrix'], labels=EMOTIONS)\n",
    "\n",
    "    RESULTS['experiment'].append(experiment)\n",
    "    RESULTS['accuracy'].append(metrics['accuracy'])\n",
    "    RESULTS['precision'].append(prec)\n",
    "    RESULTS['recall'].append(recall)\n",
    "    RESULTS['f1_score'].append(f1)\n",
    "    RESULTS['comments'].append(comments)"
   ]
  },
  {
   "cell_type": "code",
   "execution_count": 7,
   "metadata": {},
   "outputs": [],
   "source": [
    "def exp_run(name, model, transforms, list_kwargs = None, comments = \"\", **kwargs):\n",
    "\n",
    "    exp = Experiment(name=name, data=DATA, model=model, comments=comments)\n",
    "\n",
    "    if transforms:\n",
    "        for i, transform in enumerate(transforms):\n",
    "            exp.transform(transform, **(list_kwargs[i] if list_kwargs else {}))\n",
    "\n",
    "    results = exp.full_run(metrics=METRICS, **kwargs)\n",
    "    display_results(results, name, comments)"
   ]
  },
  {
   "cell_type": "code",
   "execution_count": 8,
   "metadata": {},
   "outputs": [],
   "source": [
    "def default_vector(name: str):\n",
    "\n",
    "    if name == \"count\":\n",
    "        return CountVectorizer(stop_words=\"english\", max_features=1_000)\n",
    "    elif name == \"tfidf\":\n",
    "        return TfidfVectorizer(stop_words=\"english\", max_features=1_000) "
   ]
  },
  {
   "cell_type": "code",
   "execution_count": 9,
   "metadata": {},
   "outputs": [],
   "source": [
    "def w2v_transform(X, y, subset):\n",
    "    return [[W2V[word] for word in simple_preprocess(sent)] for sent in X], y"
   ]
  },
  {
   "cell_type": "code",
   "execution_count": 10,
   "metadata": {},
   "outputs": [],
   "source": [
    "def d2v_transform(X, y, subset):\n",
    "    return [D2V.infer_vector(simple_preprocess(sent)) for sent in X], y"
   ]
  },
  {
   "cell_type": "code",
   "execution_count": 11,
   "metadata": {},
   "outputs": [],
   "source": [
    "CAT_TO_ID = {cat: i for i, cat in enumerate(DATA[\"emotion\"].unique())}\n",
    "ID_TO_CAT = {CAT_TO_ID[cat]: cat for cat in CAT_TO_ID}\n",
    "\n",
    "def cat_transform(X, y, subset):\n",
    "    return X, np.array([CAT_TO_ID[cat] for cat in y], dtype=int)"
   ]
  },
  {
   "cell_type": "markdown",
   "metadata": {},
   "source": [
    "***\n",
    "## SVC"
   ]
  },
  {
   "cell_type": "code",
   "execution_count": 12,
   "metadata": {},
   "outputs": [],
   "source": [
    "EXP1A = \"SVC/COUNT\"\n",
    "\n",
    "if selected(EXP1A):\n",
    "    exp_run(EXP1A, model=SVC(C=1), transforms=[vectorizer], list_kwargs=[{\"vect\": default_vector(\"count\")}])"
   ]
  },
  {
   "cell_type": "code",
   "execution_count": 13,
   "metadata": {},
   "outputs": [],
   "source": [
    "EXP1B = \"SVC/TFIDF\"\n",
    "\n",
    "if selected(EXP1B):\n",
    "    exp_run(EXP1B, model=SVC(C=1), transforms=[vectorizer], list_kwargs=[{\"vect\": default_vector(\"tfidf\")}])"
   ]
  },
  {
   "cell_type": "code",
   "execution_count": 14,
   "metadata": {},
   "outputs": [],
   "source": [
    "EXP1C = \"SVC/D2V\"\n",
    "\n",
    "if selected(EXP1C):\n",
    "    exp_run(EXP1C, model=SVC(C=1), transforms=[d2v_transform])"
   ]
  },
  {
   "cell_type": "markdown",
   "metadata": {},
   "source": [
    "***\n",
    "## Logistic Regression"
   ]
  },
  {
   "cell_type": "code",
   "execution_count": 15,
   "metadata": {},
   "outputs": [],
   "source": [
    "EXP2A = \"LOG/COUNT\"\n",
    "\n",
    "if selected(EXP2A):\n",
    "    exp_run(EXP2A, model=LogisticRegression(penalty=\"elasticnet\", solver=\"saga\", l1_ratio=0.5), transforms=[vectorizer], list_kwargs=[{\"vect\": default_vector(\"count\")}])"
   ]
  },
  {
   "cell_type": "code",
   "execution_count": 16,
   "metadata": {},
   "outputs": [],
   "source": [
    "EXP2B = \"LOG/TFIDF\"\n",
    "\n",
    "if selected(EXP2B):\n",
    "    exp_run(EXP2B, model=LogisticRegression(penalty=\"elasticnet\", solver=\"saga\", l1_ratio=0.5), transforms=[vectorizer], list_kwargs=[{\"vect\": default_vector(\"tfidf\")}])"
   ]
  },
  {
   "cell_type": "code",
   "execution_count": 17,
   "metadata": {},
   "outputs": [],
   "source": [
    "EXP2C = \"LOG/D2V\"\n",
    "\n",
    "if selected(EXP2C):\n",
    "    exp_run(EXP2C, model=LogisticRegression(penalty=\"elasticnet\", solver=\"saga\", l1_ratio=0.5), transforms=[d2v_transform])"
   ]
  },
  {
   "cell_type": "markdown",
   "metadata": {},
   "source": [
    "***\n",
    "## Naive Bayes\n",
    "### Multinomial NB"
   ]
  },
  {
   "cell_type": "code",
   "execution_count": 18,
   "metadata": {},
   "outputs": [],
   "source": [
    "EXP3A = \"MNB/COUNT\"\n",
    "\n",
    "if selected(EXP3A):\n",
    "    exp_run(EXP3A, model=MultinomialNB(), transforms=[vectorizer], list_kwargs=[{\"vect\": default_vector(\"count\")}])"
   ]
  },
  {
   "cell_type": "code",
   "execution_count": 19,
   "metadata": {},
   "outputs": [],
   "source": [
    "EXP3B = \"MNB/TFIDF\"\n",
    "\n",
    "if selected(EXP3B):\n",
    "    exp_run(EXP3B, model=MultinomialNB(), transforms=[vectorizer], list_kwargs=[{\"vect\": default_vector(\"tfidf\")}])"
   ]
  },
  {
   "cell_type": "markdown",
   "metadata": {},
   "source": [
    "### Compliment NB"
   ]
  },
  {
   "cell_type": "code",
   "execution_count": 20,
   "metadata": {},
   "outputs": [],
   "source": [
    "EXP4A = \"COM/COUNT\"\n",
    "\n",
    "if selected(EXP4A):\n",
    "    exp_run(EXP4A, model=ComplementNB(), transforms=[vectorizer], list_kwargs=[{\"vect\": default_vector(\"count\")}])"
   ]
  },
  {
   "cell_type": "code",
   "execution_count": 21,
   "metadata": {},
   "outputs": [],
   "source": [
    "EXP4B = \"COM/TFIDF\"\n",
    "\n",
    "if selected(EXP4B):\n",
    "    exp_run(EXP4B, model=ComplementNB(), transforms=[vectorizer], list_kwargs=[{\"vect\": default_vector(\"tfidf\")}])"
   ]
  },
  {
   "cell_type": "markdown",
   "metadata": {},
   "source": [
    "***\n",
    "## One Vs. Rest\n",
    "\n",
    "For this, we will only run the best of the non-NN models."
   ]
  },
  {
   "cell_type": "code",
   "execution_count": 22,
   "metadata": {},
   "outputs": [],
   "source": [
    "EXP5A = \"ONE\"\n",
    "\n",
    "if selected(EXP5A):\n",
    "    exp_run(EXP5A, model=OneVsRestClassifier(SVC(C=1)), transforms=[vectorizer], list_kwargs=[{\"vect\": default_vector(\"tfidf\")}])"
   ]
  },
  {
   "cell_type": "markdown",
   "metadata": {},
   "source": [
    "***\n",
    "## FFNN"
   ]
  },
  {
   "cell_type": "code",
   "execution_count": 25,
   "metadata": {},
   "outputs": [
    {
     "name": "stdout",
     "output_type": "stream",
     "text": [
      "epoch: 1/4, step: 100/832, loss=1.9081f\n",
      "epoch: 1/4, step: 200/832, loss=1.9111f\n",
      "epoch: 1/4, step: 300/832, loss=1.9547f\n",
      "epoch: 1/4, step: 400/832, loss=1.9087f\n",
      "epoch: 1/4, step: 500/832, loss=1.9251f\n",
      "epoch: 1/4, step: 600/832, loss=1.9027f\n",
      "epoch: 1/4, step: 700/832, loss=1.9686f\n",
      "epoch: 1/4, step: 800/832, loss=1.9494f\n",
      "epoch: 2/4, step: 100/832, loss=1.9367f\n",
      "epoch: 2/4, step: 200/832, loss=1.9093f\n",
      "epoch: 2/4, step: 300/832, loss=1.9650f\n",
      "epoch: 2/4, step: 400/832, loss=1.9236f\n",
      "epoch: 2/4, step: 500/832, loss=1.9226f\n",
      "epoch: 2/4, step: 600/832, loss=1.9767f\n",
      "epoch: 2/4, step: 700/832, loss=1.8991f\n",
      "epoch: 2/4, step: 800/832, loss=1.9407f\n",
      "epoch: 3/4, step: 100/832, loss=2.0023f\n",
      "epoch: 3/4, step: 200/832, loss=1.9381f\n",
      "epoch: 3/4, step: 300/832, loss=1.9875f\n",
      "epoch: 3/4, step: 400/832, loss=1.9532f\n",
      "epoch: 3/4, step: 500/832, loss=1.9645f\n",
      "epoch: 3/4, step: 600/832, loss=1.9516f\n",
      "epoch: 3/4, step: 700/832, loss=1.9509f\n",
      "epoch: 3/4, step: 800/832, loss=1.9367f\n",
      "epoch: 4/4, step: 100/832, loss=1.9199f\n",
      "epoch: 4/4, step: 200/832, loss=1.9409f\n",
      "epoch: 4/4, step: 300/832, loss=1.9683f\n",
      "epoch: 4/4, step: 400/832, loss=1.9419f\n",
      "epoch: 4/4, step: 500/832, loss=1.9522f\n",
      "epoch: 4/4, step: 600/832, loss=1.9182f\n",
      "epoch: 4/4, step: 700/832, loss=1.9900f\n",
      "epoch: 4/4, step: 800/832, loss=1.9292f\n",
      "Accuracy: 0.186\n",
      "Precision: 0.093\n",
      "Recall: 0.143\n",
      "F1-Score: 0.314\n"
     ]
    },
    {
     "data": {
      "image/png": "[encoded data removed]",
      "text/plain": [
       "<Figure size 640x480 with 2 Axes>"
      ]
     },
     "metadata": {},
     "output_type": "display_data"
    }
   ],
   "source": [
    "EXP6A = \"FFNN/D2V\"\n",
    "\n",
    "if selected(EXP6A):\n",
    "\n",
    "    def to_emotions(y_true, y_pred):\n",
    "        return [ID_TO_CAT[i] for i in y_true], [ID_TO_CAT[i] for i in y_pred]\n",
    "\n",
    "    numpy_transform = lambda X, y, subset: (np.array(X), y)\n",
    "\n",
    "    exp_run(EXP6A, model=FFNN(50, [25, 25], 7, lr=1E-10), transforms=[d2v_transform, cat_transform, numpy_transform], epochs=4, batch_size=16, post=to_emotions)"
   ]
  },
  {
   "cell_type": "markdown",
   "metadata": {},
   "source": [
    "***\n",
    "## LSTM"
   ]
  }
 ],
 "metadata": {
  "kernelspec": {
   "display_name": "deep_learning",
   "language": "python",
   "name": "python3"
  },
  "language_info": {
   "codemirror_mode": {
    "name": "ipython",
    "version": 3
   },
   "file_extension": ".py",
   "mimetype": "text/x-python",
   "name": "python",
   "nbconvert_exporter": "python",
   "pygments_lexer": "ipython3",
   "version": "3.11.4"
  }
 },
 "nbformat": 4,
 "nbformat_minor": 2
}
