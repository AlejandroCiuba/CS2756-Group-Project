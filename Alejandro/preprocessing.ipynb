{
 "cells": [
  {
   "cell_type": "markdown",
   "metadata": {},
   "source": [
    "# Preprocessing\n",
    "---\n",
    "[Alejandro Ciuba](https://alejandrociuba.github.io), alejandrociuba@pitt.edu\n",
    "---\n",
    "## Overview\n",
    "This notebook preprocesses and splits the data into the necessary training, testing and development splits we used for our studies. It accomplishes the following preprocessing steps:\n",
    "1. Only the majority emotion felt will remain per painting.\n",
    "2. Only utterances associated with the majorit emotion per painting will remain.\n",
    "3. Paintings with uniform distribution of emotions should be removed.\n",
    "\n",
    "It also performs the following actions upon data splitting:\n",
    "1. Seeds the splits in a 70-10-20; training-dev-testing split schema.\n",
    "2. Oversamples underrepresented emotions and undersamples overrepresented emotions.\n",
    "---\n",
    "## Set-Up\n",
    "### Necessary Imports"
   ]
  },
  {
   "cell_type": "code",
   "execution_count": 46,
   "metadata": {},
   "outputs": [],
   "source": [
    "from sklearn.model_selection import train_test_split\n",
    "\n",
    "import numpy as np\n",
    "import pandas as pd"
   ]
  },
  {
   "cell_type": "markdown",
   "metadata": {},
   "source": [
    "### Settings"
   ]
  },
  {
   "cell_type": "code",
   "execution_count": 47,
   "metadata": {},
   "outputs": [
    {
     "name": "stdout",
     "output_type": "stream",
     "text": [
      "Pretty printing has been turned ON\n"
     ]
    }
   ],
   "source": [
    "# Turn this off\n",
    "%pprint\n",
    "pd.set_option('display.max_columns', None)"
   ]
  },
  {
   "cell_type": "markdown",
   "metadata": {},
   "source": [
    "### Globals"
   ]
  },
  {
   "cell_type": "code",
   "execution_count": 48,
   "metadata": {},
   "outputs": [],
   "source": [
    "DATA = \"../data/art_full.csv\"\n",
    "SEED = 42"
   ]
  },
  {
   "cell_type": "markdown",
   "metadata": {},
   "source": [
    "---\n",
    "## Preprocessing"
   ]
  },
  {
   "cell_type": "code",
   "execution_count": 49,
   "metadata": {},
   "outputs": [
    {
     "name": "stdout",
     "output_type": "stream",
     "text": [
      "<class 'pandas.core.frame.DataFrame'>\n",
      "RangeIndex: 454684 entries, 0 to 454683\n",
      "Data columns (total 7 columns):\n",
      " #   Column      Non-Null Count   Dtype  \n",
      "---  ------      --------------   -----  \n",
      " 0   art_style   454684 non-null  object \n",
      " 1   painting    454684 non-null  object \n",
      " 2   emotion     454684 non-null  object \n",
      " 3   utterance   454684 non-null  object \n",
      " 4   repetition  454684 non-null  int64  \n",
      " 5   artist      454684 non-null  object \n",
      " 6   year        268063 non-null  float64\n",
      "dtypes: float64(1), int64(1), object(5)\n",
      "memory usage: 24.3+ MB\n"
     ]
    }
   ],
   "source": [
    "art_df = pd.read_csv(DATA, index_col=False)\n",
    "art_df.info()"
   ]
  },
  {
   "cell_type": "code",
   "execution_count": 50,
   "metadata": {},
   "outputs": [
    {
     "data": {
      "text/html": [
       "<div>\n",
       "<style scoped>\n",
       "    .dataframe tbody tr th:only-of-type {\n",
       "        vertical-align: middle;\n",
       "    }\n",
       "\n",
       "    .dataframe tbody tr th {\n",
       "        vertical-align: top;\n",
       "    }\n",
       "\n",
       "    .dataframe thead th {\n",
       "        text-align: right;\n",
       "    }\n",
       "</style>\n",
       "<table border=\"1\" class=\"dataframe\">\n",
       "  <thead>\n",
       "    <tr style=\"text-align: right;\">\n",
       "      <th></th>\n",
       "      <th>painting</th>\n",
       "      <th>emotion</th>\n",
       "      <th>count</th>\n",
       "    </tr>\n",
       "  </thead>\n",
       "  <tbody>\n",
       "    <tr>\n",
       "      <th>0</th>\n",
       "      <td>a.y.-jackson_algoma-in-november-1935</td>\n",
       "      <td>fear</td>\n",
       "      <td>4</td>\n",
       "    </tr>\n",
       "    <tr>\n",
       "      <th>4</th>\n",
       "      <td>a.y.-jackson_barns-1926</td>\n",
       "      <td>amusement</td>\n",
       "      <td>1</td>\n",
       "    </tr>\n",
       "    <tr>\n",
       "      <th>7</th>\n",
       "      <td>a.y.-jackson_early-spring-quebec-1923</td>\n",
       "      <td>sadness</td>\n",
       "      <td>1</td>\n",
       "    </tr>\n",
       "    <tr>\n",
       "      <th>8</th>\n",
       "      <td>a.y.-jackson_entrance-to-halifax-harbour-1919</td>\n",
       "      <td>contentment</td>\n",
       "      <td>4</td>\n",
       "    </tr>\n",
       "    <tr>\n",
       "      <th>10</th>\n",
       "      <td>a.y.-jackson_first-snow-algoma-country-1920</td>\n",
       "      <td>fear</td>\n",
       "      <td>3</td>\n",
       "    </tr>\n",
       "    <tr>\n",
       "      <th>...</th>\n",
       "      <td>...</td>\n",
       "      <td>...</td>\n",
       "      <td>...</td>\n",
       "    </tr>\n",
       "    <tr>\n",
       "      <th>269272</th>\n",
       "      <td>zinaida-serebriakova_woman-in-blue-1934</td>\n",
       "      <td>contentment</td>\n",
       "      <td>4</td>\n",
       "    </tr>\n",
       "    <tr>\n",
       "      <th>269276</th>\n",
       "      <td>zinaida-serebriakova_work-from-collioure-1930</td>\n",
       "      <td>contentment</td>\n",
       "      <td>1</td>\n",
       "    </tr>\n",
       "    <tr>\n",
       "      <th>269277</th>\n",
       "      <td>zinaida-serebriakova_yevgeny-lanceray-in-a-sha...</td>\n",
       "      <td>amusement</td>\n",
       "      <td>3</td>\n",
       "    </tr>\n",
       "    <tr>\n",
       "      <th>269280</th>\n",
       "      <td>zinaida-serebriakova_young-breton-1934</td>\n",
       "      <td>contentment</td>\n",
       "      <td>3</td>\n",
       "    </tr>\n",
       "    <tr>\n",
       "      <th>269283</th>\n",
       "      <td>zinaida-serebriakova_young-girl</td>\n",
       "      <td>contentment</td>\n",
       "      <td>3</td>\n",
       "    </tr>\n",
       "  </tbody>\n",
       "</table>\n",
       "<p>71219 rows × 3 columns</p>\n",
       "</div>"
      ],
      "text/plain": [
       "                                                 painting      emotion  count\n",
       "0                    a.y.-jackson_algoma-in-november-1935         fear      4\n",
       "4                                 a.y.-jackson_barns-1926    amusement      1\n",
       "7                   a.y.-jackson_early-spring-quebec-1923      sadness      1\n",
       "8           a.y.-jackson_entrance-to-halifax-harbour-1919  contentment      4\n",
       "10            a.y.-jackson_first-snow-algoma-country-1920         fear      3\n",
       "...                                                   ...          ...    ...\n",
       "269272            zinaida-serebriakova_woman-in-blue-1934  contentment      4\n",
       "269276      zinaida-serebriakova_work-from-collioure-1930  contentment      1\n",
       "269277  zinaida-serebriakova_yevgeny-lanceray-in-a-sha...    amusement      3\n",
       "269280             zinaida-serebriakova_young-breton-1934  contentment      3\n",
       "269283                    zinaida-serebriakova_young-girl  contentment      3\n",
       "\n",
       "[71219 rows x 3 columns]"
      ]
     },
     "execution_count": 50,
     "metadata": {},
     "output_type": "execute_result"
    }
   ],
   "source": [
    "# Get the majority emotion per painting and drop uniformly distributed paintings\n",
    "# TODO: Can I get some confirmation that this is correct?\n",
    "max_emo_df = art_df.groupby([\"painting\"], as_index=False).value_counts(subset=[\"emotion\"], sort=True).drop_duplicates([\"painting\", \"count\"], keep=False).drop_duplicates([\"painting\"], keep=\"first\")\n",
    "max_emo_df"
   ]
  },
  {
   "cell_type": "code",
   "execution_count": 51,
   "metadata": {},
   "outputs": [
    {
     "data": {
      "text/plain": [
       "196844"
      ]
     },
     "execution_count": 51,
     "metadata": {},
     "output_type": "execute_result"
    }
   ],
   "source": [
    "# How many unique rows we should have after merging\n",
    "sum(max_emo_df[\"count\"])"
   ]
  },
  {
   "cell_type": "code",
   "execution_count": 52,
   "metadata": {},
   "outputs": [
    {
     "data": {
      "text/plain": [
       "80031"
      ]
     },
     "execution_count": 52,
     "metadata": {},
     "output_type": "execute_result"
    }
   ],
   "source": [
    "# Approx 9k paintings have a uniform distribution of emotions\n",
    "len(art_df[\"painting\"].unique())"
   ]
  },
  {
   "cell_type": "code",
   "execution_count": 53,
   "metadata": {},
   "outputs": [
    {
     "data": {
      "text/html": [
       "<div>\n",
       "<style scoped>\n",
       "    .dataframe tbody tr th:only-of-type {\n",
       "        vertical-align: middle;\n",
       "    }\n",
       "\n",
       "    .dataframe tbody tr th {\n",
       "        vertical-align: top;\n",
       "    }\n",
       "\n",
       "    .dataframe thead th {\n",
       "        text-align: right;\n",
       "    }\n",
       "</style>\n",
       "<table border=\"1\" class=\"dataframe\">\n",
       "  <thead>\n",
       "    <tr style=\"text-align: right;\">\n",
       "      <th></th>\n",
       "      <th>art_style</th>\n",
       "      <th>painting</th>\n",
       "      <th>emotion</th>\n",
       "      <th>utterance</th>\n",
       "      <th>repetition</th>\n",
       "      <th>artist</th>\n",
       "      <th>year</th>\n",
       "      <th>count</th>\n",
       "    </tr>\n",
       "  </thead>\n",
       "  <tbody>\n",
       "    <tr>\n",
       "      <th>0</th>\n",
       "      <td>Abstract_Expressionism</td>\n",
       "      <td>aaron-siskind_per-400-1983</td>\n",
       "      <td>amusement</td>\n",
       "      <td>it looks like there could be a bird walking up...</td>\n",
       "      <td>5</td>\n",
       "      <td>aaron-siskind</td>\n",
       "      <td>1983.0</td>\n",
       "      <td>1</td>\n",
       "    </tr>\n",
       "    <tr>\n",
       "      <th>1</th>\n",
       "      <td>Abstract_Expressionism</td>\n",
       "      <td>abidin-dino_saman-sar-s-illustration</td>\n",
       "      <td>amusement</td>\n",
       "      <td>the cheetah print is very mesmerizing and plea...</td>\n",
       "      <td>5</td>\n",
       "      <td>abidin-dino</td>\n",
       "      <td>NaN</td>\n",
       "      <td>2</td>\n",
       "    </tr>\n",
       "    <tr>\n",
       "      <th>2</th>\n",
       "      <td>Abstract_Expressionism</td>\n",
       "      <td>abidin-dino_saman-sar-s-illustration</td>\n",
       "      <td>amusement</td>\n",
       "      <td>the painting is playful despite the stark colo...</td>\n",
       "      <td>5</td>\n",
       "      <td>abidin-dino</td>\n",
       "      <td>NaN</td>\n",
       "      <td>2</td>\n",
       "    </tr>\n",
       "    <tr>\n",
       "      <th>3</th>\n",
       "      <td>Abstract_Expressionism</td>\n",
       "      <td>alexander-calder_the-dog</td>\n",
       "      <td>amusement</td>\n",
       "      <td>not sure what this represents so its fun to tr...</td>\n",
       "      <td>7</td>\n",
       "      <td>alexander-calder</td>\n",
       "      <td>NaN</td>\n",
       "      <td>4</td>\n",
       "    </tr>\n",
       "    <tr>\n",
       "      <th>4</th>\n",
       "      <td>Abstract_Expressionism</td>\n",
       "      <td>alexander-calder_the-dog</td>\n",
       "      <td>amusement</td>\n",
       "      <td>the sculpture looks to be seals with legs and ...</td>\n",
       "      <td>7</td>\n",
       "      <td>alexander-calder</td>\n",
       "      <td>NaN</td>\n",
       "      <td>4</td>\n",
       "    </tr>\n",
       "  </tbody>\n",
       "</table>\n",
       "</div>"
      ],
      "text/plain": [
       "                art_style                              painting    emotion  \\\n",
       "0  Abstract_Expressionism            aaron-siskind_per-400-1983  amusement   \n",
       "1  Abstract_Expressionism  abidin-dino_saman-sar-s-illustration  amusement   \n",
       "2  Abstract_Expressionism  abidin-dino_saman-sar-s-illustration  amusement   \n",
       "3  Abstract_Expressionism              alexander-calder_the-dog  amusement   \n",
       "4  Abstract_Expressionism              alexander-calder_the-dog  amusement   \n",
       "\n",
       "                                           utterance  repetition  \\\n",
       "0  it looks like there could be a bird walking up...           5   \n",
       "1  the cheetah print is very mesmerizing and plea...           5   \n",
       "2  the painting is playful despite the stark colo...           5   \n",
       "3  not sure what this represents so its fun to tr...           7   \n",
       "4  the sculpture looks to be seals with legs and ...           7   \n",
       "\n",
       "             artist    year  count  \n",
       "0     aaron-siskind  1983.0      1  \n",
       "1       abidin-dino     NaN      2  \n",
       "2       abidin-dino     NaN      2  \n",
       "3  alexander-calder     NaN      4  \n",
       "4  alexander-calder     NaN      4  "
      ]
     },
     "execution_count": 53,
     "metadata": {},
     "output_type": "execute_result"
    }
   ],
   "source": [
    "# Filter by the painting and emotion column\n",
    "new_df = pd.merge(left=art_df, right=max_emo_df, how=\"inner\", on=[\"painting\", \"emotion\"])\n",
    "new_df.head()"
   ]
  },
  {
   "cell_type": "code",
   "execution_count": 54,
   "metadata": {},
   "outputs": [
    {
     "name": "stdout",
     "output_type": "stream",
     "text": [
      "<class 'pandas.core.frame.DataFrame'>\n",
      "RangeIndex: 196844 entries, 0 to 196843\n",
      "Data columns (total 8 columns):\n",
      " #   Column      Non-Null Count   Dtype  \n",
      "---  ------      --------------   -----  \n",
      " 0   art_style   196844 non-null  object \n",
      " 1   painting    196844 non-null  object \n",
      " 2   emotion     196844 non-null  object \n",
      " 3   utterance   196844 non-null  object \n",
      " 4   repetition  196844 non-null  int64  \n",
      " 5   artist      196844 non-null  object \n",
      " 6   year        114631 non-null  float64\n",
      " 7   count       196844 non-null  int64  \n",
      "dtypes: float64(1), int64(2), object(5)\n",
      "memory usage: 12.0+ MB\n"
     ]
    }
   ],
   "source": [
    "new_df.info()"
   ]
  },
  {
   "cell_type": "markdown",
   "metadata": {},
   "source": [
    "---\n",
    "## Split Creation\n",
    "We need to make sure splits contain all emotions"
   ]
  },
  {
   "cell_type": "code",
   "execution_count": 55,
   "metadata": {},
   "outputs": [
    {
     "name": "stdout",
     "output_type": "stream",
     "text": [
      "137790\n",
      "53149\n",
      "5905\n",
      "9\n",
      "9\n",
      "9\n"
     ]
    }
   ],
   "source": [
    "train, test = train_test_split(new_df, train_size=0.7, random_state=SEED, shuffle=True)\n",
    "\n",
    "# Valid vs. Test\n",
    "valid, test = train_test_split(test, train_size=0.1, random_state=SEED, shuffle=True)\n",
    "\n",
    "# Sanity check\n",
    "print(len(train))\n",
    "print(len(test))\n",
    "print(len(valid))\n",
    "\n",
    "# Both splits have all emotions\n",
    "print(len(train[\"emotion\"].unique()))\n",
    "print(len(test[\"emotion\"].unique()))\n",
    "print(len(valid[\"emotion\"].unique()))"
   ]
  },
  {
   "cell_type": "code",
   "execution_count": 56,
   "metadata": {},
   "outputs": [
    {
     "data": {
      "text/html": [
       "<div>\n",
       "<style scoped>\n",
       "    .dataframe tbody tr th:only-of-type {\n",
       "        vertical-align: middle;\n",
       "    }\n",
       "\n",
       "    .dataframe tbody tr th {\n",
       "        vertical-align: top;\n",
       "    }\n",
       "\n",
       "    .dataframe thead th {\n",
       "        text-align: right;\n",
       "    }\n",
       "</style>\n",
       "<table border=\"1\" class=\"dataframe\">\n",
       "  <thead>\n",
       "    <tr style=\"text-align: right;\">\n",
       "      <th></th>\n",
       "      <th>art_style</th>\n",
       "      <th>painting</th>\n",
       "      <th>emotion</th>\n",
       "      <th>utterance</th>\n",
       "      <th>repetition</th>\n",
       "      <th>artist</th>\n",
       "      <th>year</th>\n",
       "      <th>count</th>\n",
       "    </tr>\n",
       "  </thead>\n",
       "  <tbody>\n",
       "    <tr>\n",
       "      <th>104341</th>\n",
       "      <td>Naive_Art_Primitivism</td>\n",
       "      <td>miriam-schapiro_goncharova-1992</td>\n",
       "      <td>excitement</td>\n",
       "      <td>the orange background color, and th red on her...</td>\n",
       "      <td>5</td>\n",
       "      <td>miriam-schapiro</td>\n",
       "      <td>1992.0</td>\n",
       "      <td>3</td>\n",
       "    </tr>\n",
       "    <tr>\n",
       "      <th>85453</th>\n",
       "      <td>Impressionism</td>\n",
       "      <td>theodor-pallady_debarcader-pe-sena-dinspre-bel...</td>\n",
       "      <td>contentment</td>\n",
       "      <td>the little building has very colorful paint on...</td>\n",
       "      <td>5</td>\n",
       "      <td>theodor-pallady</td>\n",
       "      <td>NaN</td>\n",
       "      <td>3</td>\n",
       "    </tr>\n",
       "    <tr>\n",
       "      <th>133149</th>\n",
       "      <td>Post_Impressionism</td>\n",
       "      <td>albert-marquet_notre-dame-in-winter-1902</td>\n",
       "      <td>something else</td>\n",
       "      <td>ominous landscape and structure setting.  hard...</td>\n",
       "      <td>6</td>\n",
       "      <td>albert-marquet</td>\n",
       "      <td>1902.0</td>\n",
       "      <td>3</td>\n",
       "    </tr>\n",
       "    <tr>\n",
       "      <th>159111</th>\n",
       "      <td>Realism</td>\n",
       "      <td>vincent-van-gogh_peasant-woman-lifting-potatoe...</td>\n",
       "      <td>sadness</td>\n",
       "      <td>this painting gives off old history book vibes...</td>\n",
       "      <td>5</td>\n",
       "      <td>vincent-van-gogh</td>\n",
       "      <td>1885.0</td>\n",
       "      <td>3</td>\n",
       "    </tr>\n",
       "    <tr>\n",
       "      <th>151669</th>\n",
       "      <td>Realism</td>\n",
       "      <td>volodymyr-orlovsky_edge-of-a-wood</td>\n",
       "      <td>contentment</td>\n",
       "      <td>the cows seek shade under the large tree.</td>\n",
       "      <td>5</td>\n",
       "      <td>volodymyr-orlovsky</td>\n",
       "      <td>NaN</td>\n",
       "      <td>4</td>\n",
       "    </tr>\n",
       "    <tr>\n",
       "      <th>151977</th>\n",
       "      <td>Realism</td>\n",
       "      <td>winslow-homer_on-the-trail</td>\n",
       "      <td>contentment</td>\n",
       "      <td>the colors of autumn leaves accompany the man ...</td>\n",
       "      <td>5</td>\n",
       "      <td>winslow-homer</td>\n",
       "      <td>NaN</td>\n",
       "      <td>2</td>\n",
       "    </tr>\n",
       "    <tr>\n",
       "      <th>127724</th>\n",
       "      <td>Post_Impressionism</td>\n",
       "      <td>pyotr-konchalovsky_veranda-essentuki-1948</td>\n",
       "      <td>contentment</td>\n",
       "      <td>a chair on the sunporch as the shine shines th...</td>\n",
       "      <td>5</td>\n",
       "      <td>pyotr-konchalovsky</td>\n",
       "      <td>1948.0</td>\n",
       "      <td>5</td>\n",
       "    </tr>\n",
       "    <tr>\n",
       "      <th>103956</th>\n",
       "      <td>Naive_Art_Primitivism</td>\n",
       "      <td>grã©goire-michonze_scene-de-village</td>\n",
       "      <td>disgust</td>\n",
       "      <td>naked women getting kissed and groped by men.</td>\n",
       "      <td>5</td>\n",
       "      <td>grã©goire-michonze</td>\n",
       "      <td>NaN</td>\n",
       "      <td>3</td>\n",
       "    </tr>\n",
       "    <tr>\n",
       "      <th>25564</th>\n",
       "      <td>Baroque</td>\n",
       "      <td>rembrandt_tobit-and-anna-1659</td>\n",
       "      <td>sadness</td>\n",
       "      <td>the man is breathing his last breathes as he l...</td>\n",
       "      <td>5</td>\n",
       "      <td>rembrandt</td>\n",
       "      <td>1659.0</td>\n",
       "      <td>4</td>\n",
       "    </tr>\n",
       "    <tr>\n",
       "      <th>37800</th>\n",
       "      <td>Early_Renaissance</td>\n",
       "      <td>bartolome-bermejo_piet-of-canon-luis-despl-1490</td>\n",
       "      <td>sadness</td>\n",
       "      <td>there is real sorrow in the woman's face holdi...</td>\n",
       "      <td>6</td>\n",
       "      <td>bartolome-bermejo</td>\n",
       "      <td>1490.0</td>\n",
       "      <td>5</td>\n",
       "    </tr>\n",
       "  </tbody>\n",
       "</table>\n",
       "</div>"
      ],
      "text/plain": [
       "                    art_style  \\\n",
       "104341  Naive_Art_Primitivism   \n",
       "85453           Impressionism   \n",
       "133149     Post_Impressionism   \n",
       "159111                Realism   \n",
       "151669                Realism   \n",
       "151977                Realism   \n",
       "127724     Post_Impressionism   \n",
       "103956  Naive_Art_Primitivism   \n",
       "25564                 Baroque   \n",
       "37800       Early_Renaissance   \n",
       "\n",
       "                                                 painting         emotion  \\\n",
       "104341                    miriam-schapiro_goncharova-1992      excitement   \n",
       "85453   theodor-pallady_debarcader-pe-sena-dinspre-bel...     contentment   \n",
       "133149           albert-marquet_notre-dame-in-winter-1902  something else   \n",
       "159111  vincent-van-gogh_peasant-woman-lifting-potatoe...         sadness   \n",
       "151669                  volodymyr-orlovsky_edge-of-a-wood     contentment   \n",
       "151977                         winslow-homer_on-the-trail     contentment   \n",
       "127724          pyotr-konchalovsky_veranda-essentuki-1948     contentment   \n",
       "103956                grã©goire-michonze_scene-de-village         disgust   \n",
       "25564                       rembrandt_tobit-and-anna-1659         sadness   \n",
       "37800     bartolome-bermejo_piet-of-canon-luis-despl-1490         sadness   \n",
       "\n",
       "                                                utterance  repetition  \\\n",
       "104341  the orange background color, and th red on her...           5   \n",
       "85453   the little building has very colorful paint on...           5   \n",
       "133149  ominous landscape and structure setting.  hard...           6   \n",
       "159111  this painting gives off old history book vibes...           5   \n",
       "151669          the cows seek shade under the large tree.           5   \n",
       "151977  the colors of autumn leaves accompany the man ...           5   \n",
       "127724  a chair on the sunporch as the shine shines th...           5   \n",
       "103956      naked women getting kissed and groped by men.           5   \n",
       "25564   the man is breathing his last breathes as he l...           5   \n",
       "37800   there is real sorrow in the woman's face holdi...           6   \n",
       "\n",
       "                    artist    year  count  \n",
       "104341     miriam-schapiro  1992.0      3  \n",
       "85453      theodor-pallady     NaN      3  \n",
       "133149      albert-marquet  1902.0      3  \n",
       "159111    vincent-van-gogh  1885.0      3  \n",
       "151669  volodymyr-orlovsky     NaN      4  \n",
       "151977       winslow-homer     NaN      2  \n",
       "127724  pyotr-konchalovsky  1948.0      5  \n",
       "103956  grã©goire-michonze     NaN      3  \n",
       "25564            rembrandt  1659.0      4  \n",
       "37800    bartolome-bermejo  1490.0      5  "
      ]
     },
     "execution_count": 56,
     "metadata": {},
     "output_type": "execute_result"
    }
   ],
   "source": [
    "train.head(10)"
   ]
  },
  {
   "cell_type": "markdown",
   "metadata": {},
   "source": [
    "---\n",
    "## Training Set Sampling"
   ]
  },
  {
   "cell_type": "code",
   "execution_count": 57,
   "metadata": {},
   "outputs": [
    {
     "data": {
      "text/plain": [
       "<Axes: xlabel='emotion'>"
      ]
     },
     "execution_count": 57,
     "metadata": {},
     "output_type": "execute_result"
    },
    {
     "data": {
      "image/png": "[encoded data removed]",
      "text/plain": [
       "<Figure size 640x480 with 1 Axes>"
      ]
     },
     "metadata": {},
     "output_type": "display_data"
    }
   ],
   "source": [
    "# Distribution of emotions over the training set\n",
    "train[\"emotion\"].value_counts(normalize=True).plot(kind=\"bar\")"
   ]
  },
  {
   "cell_type": "markdown",
   "metadata": {},
   "source": [
    "### Possible Solutions\n",
    "- Randomly undersample the `contentment` class\n",
    "- Randomly oversample the `something else`, `excitement`, `disgust` and `anger` classes\n",
    "    - Apply some version of SMOTE on these classes to more advanced classifiers or to their word vector representations\n",
    "- Potentially remove the `something else` category"
   ]
  },
  {
   "cell_type": "code",
   "execution_count": 58,
   "metadata": {},
   "outputs": [
    {
     "name": "stdout",
     "output_type": "stream",
     "text": [
      "<class 'pandas.core.frame.DataFrame'>\n",
      "Index: 196844 entries, 104341 to 3332\n",
      "Data columns (total 9 columns):\n",
      " #   Column      Non-Null Count   Dtype  \n",
      "---  ------      --------------   -----  \n",
      " 0   art_style   196844 non-null  object \n",
      " 1   painting    196844 non-null  object \n",
      " 2   emotion     196844 non-null  object \n",
      " 3   utterance   196844 non-null  object \n",
      " 4   repetition  196844 non-null  int64  \n",
      " 5   artist      196844 non-null  object \n",
      " 6   year        114631 non-null  float64\n",
      " 7   count       196844 non-null  int64  \n",
      " 8   split       196844 non-null  object \n",
      "dtypes: float64(1), int64(2), object(6)\n",
      "memory usage: 15.0+ MB\n"
     ]
    }
   ],
   "source": [
    "# Merge the DataFrames with a split column\n",
    "train[\"split\"] = \"TRAIN\"\n",
    "test[\"split\"] = \"TEST\"\n",
    "valid[\"split\"] = \"VALID\"\n",
    "\n",
    "final_df = pd.concat([train, test, valid])\n",
    "\n",
    "final_df.info()"
   ]
  },
  {
   "cell_type": "code",
   "execution_count": 59,
   "metadata": {},
   "outputs": [],
   "source": [
    "final_df = final_df[[\"painting\", \"artist\", \"art_style\", \"year\", \"utterance\", \"emotion\", \"repetition\", \"count\", \"split\"]]\n",
    "final_df.to_csv(\"../data/splits.csv\", index=False)"
   ]
  },
  {
   "cell_type": "markdown",
   "metadata": {},
   "source": [
    "---\n",
    "## Smaller Splits\n",
    "We are having issues running everything, so we are making smaller splits that keep the same proportions from the main `splits.csv` file."
   ]
  },
  {
   "cell_type": "code",
   "execution_count": 60,
   "metadata": {},
   "outputs": [
    {
     "name": "stderr",
     "output_type": "stream",
     "text": [
      "/tmp/ipykernel_93376/1835710348.py:10: FutureWarning: The behavior of DataFrame concatenation with empty or all-NA entries is deprecated. In a future version, this will no longer exclude empty or all-NA columns when determining the result dtypes. To retain the old behavior, exclude the relevant entries before the concat operation.\n",
      "  small_df = pd.concat([small_df, final_df.iloc[inds, :]])\n"
     ]
    }
   ],
   "source": [
    "size = 19_000  # Approximately this lol\n",
    "small_df = pd.DataFrame(columns=final_df.columns)\n",
    "counts = train[\"emotion\"].value_counts(normalize=True)\n",
    "\n",
    "for emotion in final_df.emotion.unique():\n",
    "\n",
    "    rep = counts[emotion]\n",
    "    inds = final_df[final_df.emotion == emotion].sample(n=int(size * rep), random_state = SEED).index\n",
    "    \n",
    "    small_df = pd.concat([small_df, final_df.iloc[inds, :]])"
   ]
  },
  {
   "cell_type": "code",
   "execution_count": 61,
   "metadata": {},
   "outputs": [
    {
     "name": "stdout",
     "output_type": "stream",
     "text": [
      "<class 'pandas.core.frame.DataFrame'>\n",
      "Index: 18995 entries, 185886 to 69203\n",
      "Data columns (total 9 columns):\n",
      " #   Column      Non-Null Count  Dtype  \n",
      "---  ------      --------------  -----  \n",
      " 0   painting    18995 non-null  object \n",
      " 1   artist      18995 non-null  object \n",
      " 2   art_style   18995 non-null  object \n",
      " 3   year        11084 non-null  float64\n",
      " 4   utterance   18995 non-null  object \n",
      " 5   emotion     18995 non-null  object \n",
      " 6   repetition  18995 non-null  object \n",
      " 7   count       18995 non-null  object \n",
      " 8   split       18995 non-null  object \n",
      "dtypes: float64(1), object(8)\n",
      "memory usage: 1.4+ MB\n"
     ]
    }
   ],
   "source": [
    "small_df.info()"
   ]
  },
  {
   "cell_type": "code",
   "execution_count": 62,
   "metadata": {},
   "outputs": [
    {
     "data": {
      "text/html": [
       "<div>\n",
       "<style scoped>\n",
       "    .dataframe tbody tr th:only-of-type {\n",
       "        vertical-align: middle;\n",
       "    }\n",
       "\n",
       "    .dataframe tbody tr th {\n",
       "        vertical-align: top;\n",
       "    }\n",
       "\n",
       "    .dataframe thead th {\n",
       "        text-align: right;\n",
       "    }\n",
       "</style>\n",
       "<table border=\"1\" class=\"dataframe\">\n",
       "  <thead>\n",
       "    <tr style=\"text-align: right;\">\n",
       "      <th></th>\n",
       "      <th>painting</th>\n",
       "      <th>artist</th>\n",
       "      <th>art_style</th>\n",
       "      <th>year</th>\n",
       "      <th>utterance</th>\n",
       "      <th>emotion</th>\n",
       "      <th>repetition</th>\n",
       "      <th>count</th>\n",
       "      <th>split</th>\n",
       "    </tr>\n",
       "  </thead>\n",
       "  <tbody>\n",
       "    <tr>\n",
       "      <th>16792</th>\n",
       "      <td>frans-hals_family-group-in-a-landscape-detail</td>\n",
       "      <td>frans-hals</td>\n",
       "      <td>Baroque</td>\n",
       "      <td>NaN</td>\n",
       "      <td>they are both thinking this \"coming to america...</td>\n",
       "      <td>amusement</td>\n",
       "      <td>5</td>\n",
       "      <td>3</td>\n",
       "      <td>TRAIN</td>\n",
       "    </tr>\n",
       "    <tr>\n",
       "      <th>31370</th>\n",
       "      <td>fernand-leger_three-sisters-1952</td>\n",
       "      <td>fernand-leger</td>\n",
       "      <td>Cubism</td>\n",
       "      <td>1952.0</td>\n",
       "      <td>this is a very awkward group. they remind me o...</td>\n",
       "      <td>amusement</td>\n",
       "      <td>5</td>\n",
       "      <td>2</td>\n",
       "      <td>TRAIN</td>\n",
       "    </tr>\n",
       "    <tr>\n",
       "      <th>149482</th>\n",
       "      <td>theodore-rousseau_cows-in-the-mare-1855</td>\n",
       "      <td>theodore-rousseau</td>\n",
       "      <td>Realism</td>\n",
       "      <td>1855.0</td>\n",
       "      <td>i really liked the scenery that was painted, t...</td>\n",
       "      <td>contentment</td>\n",
       "      <td>5</td>\n",
       "      <td>4</td>\n",
       "      <td>TRAIN</td>\n",
       "    </tr>\n",
       "    <tr>\n",
       "      <th>164699</th>\n",
       "      <td>thomas-gainsborough_wooded-landscape-with-a-wa...</td>\n",
       "      <td>thomas-gainsborough</td>\n",
       "      <td>Rococo</td>\n",
       "      <td>NaN</td>\n",
       "      <td>the warm colors and slow vibe to the movement ...</td>\n",
       "      <td>contentment</td>\n",
       "      <td>5</td>\n",
       "      <td>4</td>\n",
       "      <td>TRAIN</td>\n",
       "    </tr>\n",
       "    <tr>\n",
       "      <th>101631</th>\n",
       "      <td>natalia-goncharova_woodcutters</td>\n",
       "      <td>natalia-goncharova</td>\n",
       "      <td>Naive_Art_Primitivism</td>\n",
       "      <td>NaN</td>\n",
       "      <td>the blend of reds and the facial features of t...</td>\n",
       "      <td>anger</td>\n",
       "      <td>10</td>\n",
       "      <td>3</td>\n",
       "      <td>TRAIN</td>\n",
       "    </tr>\n",
       "    <tr>\n",
       "      <th>126325</th>\n",
       "      <td>paul-cezanne_dark-blue-vase-1880</td>\n",
       "      <td>paul-cezanne</td>\n",
       "      <td>Post_Impressionism</td>\n",
       "      <td>1880.0</td>\n",
       "      <td>the rose in the center is blooming and its a h...</td>\n",
       "      <td>contentment</td>\n",
       "      <td>5</td>\n",
       "      <td>2</td>\n",
       "      <td>TEST</td>\n",
       "    </tr>\n",
       "    <tr>\n",
       "      <th>121020</th>\n",
       "      <td>edouard-vuillard_chateau-of-fontainebleau-1919</td>\n",
       "      <td>edouard-vuillard</td>\n",
       "      <td>Post_Impressionism</td>\n",
       "      <td>1919.0</td>\n",
       "      <td>the mirror image on the water gives the water ...</td>\n",
       "      <td>contentment</td>\n",
       "      <td>5</td>\n",
       "      <td>3</td>\n",
       "      <td>TRAIN</td>\n",
       "    </tr>\n",
       "    <tr>\n",
       "      <th>33642</th>\n",
       "      <td>francis-picabia_ballerina-on-an-ocean-liner-1913</td>\n",
       "      <td>francis-picabia</td>\n",
       "      <td>Cubism</td>\n",
       "      <td>1913.0</td>\n",
       "      <td>i feel disgusted because this is highly disorg...</td>\n",
       "      <td>disgust</td>\n",
       "      <td>5</td>\n",
       "      <td>1</td>\n",
       "      <td>TEST</td>\n",
       "    </tr>\n",
       "    <tr>\n",
       "      <th>161420</th>\n",
       "      <td>maurice-quentin-de-la-tour_jean-paris-de-montm...</td>\n",
       "      <td>maurice-quentin-de-la-tour</td>\n",
       "      <td>Rococo</td>\n",
       "      <td>NaN</td>\n",
       "      <td>this gentleman appears to be colonial administ...</td>\n",
       "      <td>amusement</td>\n",
       "      <td>5</td>\n",
       "      <td>2</td>\n",
       "      <td>TRAIN</td>\n",
       "    </tr>\n",
       "    <tr>\n",
       "      <th>116998</th>\n",
       "      <td>evelyne-axell_marine-1971</td>\n",
       "      <td>evelyne-axell</td>\n",
       "      <td>Pop_Art</td>\n",
       "      <td>1971.0</td>\n",
       "      <td>i feel weird while looking at this, like the w...</td>\n",
       "      <td>something else</td>\n",
       "      <td>6</td>\n",
       "      <td>3</td>\n",
       "      <td>TRAIN</td>\n",
       "    </tr>\n",
       "  </tbody>\n",
       "</table>\n",
       "</div>"
      ],
      "text/plain": [
       "                                                 painting  \\\n",
       "16792       frans-hals_family-group-in-a-landscape-detail   \n",
       "31370                    fernand-leger_three-sisters-1952   \n",
       "149482            theodore-rousseau_cows-in-the-mare-1855   \n",
       "164699  thomas-gainsborough_wooded-landscape-with-a-wa...   \n",
       "101631                     natalia-goncharova_woodcutters   \n",
       "126325                   paul-cezanne_dark-blue-vase-1880   \n",
       "121020     edouard-vuillard_chateau-of-fontainebleau-1919   \n",
       "33642    francis-picabia_ballerina-on-an-ocean-liner-1913   \n",
       "161420  maurice-quentin-de-la-tour_jean-paris-de-montm...   \n",
       "116998                          evelyne-axell_marine-1971   \n",
       "\n",
       "                            artist              art_style    year  \\\n",
       "16792                   frans-hals                Baroque     NaN   \n",
       "31370                fernand-leger                 Cubism  1952.0   \n",
       "149482           theodore-rousseau                Realism  1855.0   \n",
       "164699         thomas-gainsborough                 Rococo     NaN   \n",
       "101631          natalia-goncharova  Naive_Art_Primitivism     NaN   \n",
       "126325                paul-cezanne     Post_Impressionism  1880.0   \n",
       "121020            edouard-vuillard     Post_Impressionism  1919.0   \n",
       "33642              francis-picabia                 Cubism  1913.0   \n",
       "161420  maurice-quentin-de-la-tour                 Rococo     NaN   \n",
       "116998               evelyne-axell                Pop_Art  1971.0   \n",
       "\n",
       "                                                utterance         emotion  \\\n",
       "16792   they are both thinking this \"coming to america...       amusement   \n",
       "31370   this is a very awkward group. they remind me o...       amusement   \n",
       "149482  i really liked the scenery that was painted, t...     contentment   \n",
       "164699  the warm colors and slow vibe to the movement ...     contentment   \n",
       "101631  the blend of reds and the facial features of t...           anger   \n",
       "126325  the rose in the center is blooming and its a h...     contentment   \n",
       "121020  the mirror image on the water gives the water ...     contentment   \n",
       "33642   i feel disgusted because this is highly disorg...         disgust   \n",
       "161420  this gentleman appears to be colonial administ...       amusement   \n",
       "116998  i feel weird while looking at this, like the w...  something else   \n",
       "\n",
       "       repetition count  split  \n",
       "16792           5     3  TRAIN  \n",
       "31370           5     2  TRAIN  \n",
       "149482          5     4  TRAIN  \n",
       "164699          5     4  TRAIN  \n",
       "101631         10     3  TRAIN  \n",
       "126325          5     2   TEST  \n",
       "121020          5     3  TRAIN  \n",
       "33642           5     1   TEST  \n",
       "161420          5     2  TRAIN  \n",
       "116998          6     3  TRAIN  "
      ]
     },
     "execution_count": 62,
     "metadata": {},
     "output_type": "execute_result"
    }
   ],
   "source": [
    "small_df.sample(10, random_state=SEED)"
   ]
  },
  {
   "cell_type": "code",
   "execution_count": 63,
   "metadata": {},
   "outputs": [
    {
     "name": "stdout",
     "output_type": "stream",
     "text": [
      "13296\n",
      "5130\n",
      "569\n",
      "9\n",
      "9\n",
      "9\n"
     ]
    }
   ],
   "source": [
    "train_small, test_small = train_test_split(small_df, train_size=0.7, random_state=SEED, shuffle=True)\n",
    "\n",
    "# Valid vs. Test\n",
    "valid_small, test_small = train_test_split(test_small, train_size=0.1, random_state=SEED, shuffle=True)\n",
    "\n",
    "# Sanity check\n",
    "print(len(train_small))\n",
    "print(len(test_small))\n",
    "print(len(valid_small))\n",
    "\n",
    "# Both splits have all emotions\n",
    "print(len(train_small[\"emotion\"].unique()))\n",
    "print(len(test_small[\"emotion\"].unique()))\n",
    "print(len(valid_small[\"emotion\"].unique()))"
   ]
  },
  {
   "cell_type": "code",
   "execution_count": 64,
   "metadata": {},
   "outputs": [
    {
     "data": {
      "text/html": [
       "<div>\n",
       "<style scoped>\n",
       "    .dataframe tbody tr th:only-of-type {\n",
       "        vertical-align: middle;\n",
       "    }\n",
       "\n",
       "    .dataframe tbody tr th {\n",
       "        vertical-align: top;\n",
       "    }\n",
       "\n",
       "    .dataframe thead th {\n",
       "        text-align: right;\n",
       "    }\n",
       "</style>\n",
       "<table border=\"1\" class=\"dataframe\">\n",
       "  <thead>\n",
       "    <tr style=\"text-align: right;\">\n",
       "      <th></th>\n",
       "      <th>painting</th>\n",
       "      <th>artist</th>\n",
       "      <th>art_style</th>\n",
       "      <th>year</th>\n",
       "      <th>utterance</th>\n",
       "      <th>emotion</th>\n",
       "      <th>repetition</th>\n",
       "      <th>count</th>\n",
       "      <th>split</th>\n",
       "    </tr>\n",
       "  </thead>\n",
       "  <tbody>\n",
       "    <tr>\n",
       "      <th>169358</th>\n",
       "      <td>karl-bodmer_inside-front-cover-left</td>\n",
       "      <td>karl-bodmer</td>\n",
       "      <td>Romanticism</td>\n",
       "      <td>NaN</td>\n",
       "      <td>various native american artifacts cause a desi...</td>\n",
       "      <td>awe</td>\n",
       "      <td>5</td>\n",
       "      <td>2</td>\n",
       "      <td>TRAIN</td>\n",
       "    </tr>\n",
       "    <tr>\n",
       "      <th>185786</th>\n",
       "      <td>nicholas-roerich_mongolian-yurtas-1936</td>\n",
       "      <td>nicholas-roerich</td>\n",
       "      <td>Symbolism</td>\n",
       "      <td>1936.0</td>\n",
       "      <td>the neutral colors in this makes it feel calm ...</td>\n",
       "      <td>awe</td>\n",
       "      <td>5</td>\n",
       "      <td>2</td>\n",
       "      <td>TEST</td>\n",
       "    </tr>\n",
       "    <tr>\n",
       "      <th>162239</th>\n",
       "      <td>hubert-robert_a-hermit-praying-in-the-ruins-of...</td>\n",
       "      <td>hubert-robert</td>\n",
       "      <td>Rococo</td>\n",
       "      <td>1760.0</td>\n",
       "      <td>the piece has many small details, and i would ...</td>\n",
       "      <td>awe</td>\n",
       "      <td>6</td>\n",
       "      <td>4</td>\n",
       "      <td>TEST</td>\n",
       "    </tr>\n",
       "    <tr>\n",
       "      <th>186317</th>\n",
       "      <td>arnold-bã¶cklin_idyll-1866</td>\n",
       "      <td>arnold-bã¶cklin</td>\n",
       "      <td>Symbolism</td>\n",
       "      <td>1866.0</td>\n",
       "      <td>i love the bodies and how beautifully painted ...</td>\n",
       "      <td>contentment</td>\n",
       "      <td>5</td>\n",
       "      <td>3</td>\n",
       "      <td>TRAIN</td>\n",
       "    </tr>\n",
       "    <tr>\n",
       "      <th>181511</th>\n",
       "      <td>gustave-dore_st-peter-and-st-john-at-beautiful...</td>\n",
       "      <td>gustave-dore</td>\n",
       "      <td>Romanticism</td>\n",
       "      <td>NaN</td>\n",
       "      <td>this drawing of ancient biblical days bring ab...</td>\n",
       "      <td>sadness</td>\n",
       "      <td>6</td>\n",
       "      <td>4</td>\n",
       "      <td>TRAIN</td>\n",
       "    </tr>\n",
       "    <tr>\n",
       "      <th>111201</th>\n",
       "      <td>albrecht-durer_christ-at-the-cross-1497</td>\n",
       "      <td>albrecht-durer</td>\n",
       "      <td>Northern_Renaissance</td>\n",
       "      <td>1497.0</td>\n",
       "      <td>the man crucified in the picture is dead.</td>\n",
       "      <td>sadness</td>\n",
       "      <td>5</td>\n",
       "      <td>3</td>\n",
       "      <td>TRAIN</td>\n",
       "    </tr>\n",
       "    <tr>\n",
       "      <th>60087</th>\n",
       "      <td>abdullah-suriosubroto_paddy-field</td>\n",
       "      <td>abdullah-suriosubroto</td>\n",
       "      <td>Impressionism</td>\n",
       "      <td>NaN</td>\n",
       "      <td>beautiful tropical scene..what java must have ...</td>\n",
       "      <td>awe</td>\n",
       "      <td>7</td>\n",
       "      <td>4</td>\n",
       "      <td>TEST</td>\n",
       "    </tr>\n",
       "    <tr>\n",
       "      <th>67746</th>\n",
       "      <td>camille-pissarro_the-diligence-1877</td>\n",
       "      <td>camille-pissarro</td>\n",
       "      <td>Impressionism</td>\n",
       "      <td>1877.0</td>\n",
       "      <td>the reds and oranges of the trees are of a bea...</td>\n",
       "      <td>contentment</td>\n",
       "      <td>6</td>\n",
       "      <td>4</td>\n",
       "      <td>TRAIN</td>\n",
       "    </tr>\n",
       "    <tr>\n",
       "      <th>11270</th>\n",
       "      <td>lawren-harris_aftermath-of-storm-lake-superior...</td>\n",
       "      <td>lawren-harris</td>\n",
       "      <td>Art_Nouveau_Modern</td>\n",
       "      <td>1926.0</td>\n",
       "      <td>it looks like a rainbow on a mostly sunny day ...</td>\n",
       "      <td>contentment</td>\n",
       "      <td>5</td>\n",
       "      <td>2</td>\n",
       "      <td>TRAIN</td>\n",
       "    </tr>\n",
       "    <tr>\n",
       "      <th>188030</th>\n",
       "      <td>nicholas-roerich_and-we-not-afraid-1922</td>\n",
       "      <td>nicholas-roerich</td>\n",
       "      <td>Symbolism</td>\n",
       "      <td>1922.0</td>\n",
       "      <td>i like this peaceful picture of mountain cover...</td>\n",
       "      <td>contentment</td>\n",
       "      <td>6</td>\n",
       "      <td>3</td>\n",
       "      <td>TRAIN</td>\n",
       "    </tr>\n",
       "  </tbody>\n",
       "</table>\n",
       "</div>"
      ],
      "text/plain": [
       "                                                 painting  \\\n",
       "169358                karl-bodmer_inside-front-cover-left   \n",
       "185786             nicholas-roerich_mongolian-yurtas-1936   \n",
       "162239  hubert-robert_a-hermit-praying-in-the-ruins-of...   \n",
       "186317                         arnold-bã¶cklin_idyll-1866   \n",
       "181511  gustave-dore_st-peter-and-st-john-at-beautiful...   \n",
       "111201            albrecht-durer_christ-at-the-cross-1497   \n",
       "60087                   abdullah-suriosubroto_paddy-field   \n",
       "67746                 camille-pissarro_the-diligence-1877   \n",
       "11270   lawren-harris_aftermath-of-storm-lake-superior...   \n",
       "188030            nicholas-roerich_and-we-not-afraid-1922   \n",
       "\n",
       "                       artist             art_style    year  \\\n",
       "169358            karl-bodmer           Romanticism     NaN   \n",
       "185786       nicholas-roerich             Symbolism  1936.0   \n",
       "162239          hubert-robert                Rococo  1760.0   \n",
       "186317        arnold-bã¶cklin             Symbolism  1866.0   \n",
       "181511           gustave-dore           Romanticism     NaN   \n",
       "111201         albrecht-durer  Northern_Renaissance  1497.0   \n",
       "60087   abdullah-suriosubroto         Impressionism     NaN   \n",
       "67746        camille-pissarro         Impressionism  1877.0   \n",
       "11270           lawren-harris    Art_Nouveau_Modern  1926.0   \n",
       "188030       nicholas-roerich             Symbolism  1922.0   \n",
       "\n",
       "                                                utterance      emotion  \\\n",
       "169358  various native american artifacts cause a desi...          awe   \n",
       "185786  the neutral colors in this makes it feel calm ...          awe   \n",
       "162239  the piece has many small details, and i would ...          awe   \n",
       "186317  i love the bodies and how beautifully painted ...  contentment   \n",
       "181511  this drawing of ancient biblical days bring ab...      sadness   \n",
       "111201          the man crucified in the picture is dead.      sadness   \n",
       "60087   beautiful tropical scene..what java must have ...          awe   \n",
       "67746   the reds and oranges of the trees are of a bea...  contentment   \n",
       "11270   it looks like a rainbow on a mostly sunny day ...  contentment   \n",
       "188030  i like this peaceful picture of mountain cover...  contentment   \n",
       "\n",
       "       repetition count  split  \n",
       "169358          5     2  TRAIN  \n",
       "185786          5     2   TEST  \n",
       "162239          6     4   TEST  \n",
       "186317          5     3  TRAIN  \n",
       "181511          6     4  TRAIN  \n",
       "111201          5     3  TRAIN  \n",
       "60087           7     4   TEST  \n",
       "67746           6     4  TRAIN  \n",
       "11270           5     2  TRAIN  \n",
       "188030          6     3  TRAIN  "
      ]
     },
     "execution_count": 64,
     "metadata": {},
     "output_type": "execute_result"
    }
   ],
   "source": [
    "train_small.head(10)"
   ]
  },
  {
   "cell_type": "markdown",
   "metadata": {},
   "source": [
    "---\n",
    "### Training Set Subsampling"
   ]
  },
  {
   "cell_type": "code",
   "execution_count": 65,
   "metadata": {},
   "outputs": [
    {
     "data": {
      "text/plain": [
       "<Axes: xlabel='emotion'>"
      ]
     },
     "execution_count": 65,
     "metadata": {},
     "output_type": "execute_result"
    },
    {
     "data": {
      "image/png": "[encoded data removed]",
      "text/plain": [
       "<Figure size 640x480 with 1 Axes>"
      ]
     },
     "metadata": {},
     "output_type": "display_data"
    }
   ],
   "source": [
    "# Distribution of emotions over the training set\n",
    "train_small[\"emotion\"].value_counts(normalize=True).plot(kind=\"bar\")"
   ]
  },
  {
   "cell_type": "code",
   "execution_count": 66,
   "metadata": {},
   "outputs": [
    {
     "name": "stdout",
     "output_type": "stream",
     "text": [
      "<class 'pandas.core.frame.DataFrame'>\n",
      "Index: 18995 entries, 169358 to 32986\n",
      "Data columns (total 9 columns):\n",
      " #   Column      Non-Null Count  Dtype  \n",
      "---  ------      --------------  -----  \n",
      " 0   painting    18995 non-null  object \n",
      " 1   artist      18995 non-null  object \n",
      " 2   art_style   18995 non-null  object \n",
      " 3   year        11084 non-null  float64\n",
      " 4   utterance   18995 non-null  object \n",
      " 5   emotion     18995 non-null  object \n",
      " 6   repetition  18995 non-null  object \n",
      " 7   count       18995 non-null  object \n",
      " 8   split       18995 non-null  object \n",
      "dtypes: float64(1), object(8)\n",
      "memory usage: 1.4+ MB\n"
     ]
    }
   ],
   "source": [
    "# Merge the DataFrames with a split column\n",
    "train_small[\"split\"] = \"TRAIN\"\n",
    "test_small[\"split\"] = \"TEST\"\n",
    "valid_small[\"split\"] = \"VALID\"\n",
    "\n",
    "final2_df = pd.concat([train_small, test_small, valid_small])\n",
    "\n",
    "final2_df.info()"
   ]
  },
  {
   "cell_type": "code",
   "execution_count": 67,
   "metadata": {},
   "outputs": [
    {
     "data": {
      "text/plain": [
       "16575"
      ]
     },
     "execution_count": 67,
     "metadata": {},
     "output_type": "execute_result"
    }
   ],
   "source": [
    "len(final2_df.painting.unique())"
   ]
  },
  {
   "cell_type": "code",
   "execution_count": 68,
   "metadata": {},
   "outputs": [],
   "source": [
    "# Reorganize to have painting as the key column\n",
    "final2_df = final2_df[[\"painting\", \"artist\", \"art_style\", \"year\", \"utterance\", \"emotion\", \"repetition\", \"count\", \"split\"]]\n",
    "final2_df.to_csv(\"../data/small-splits.csv\", index=False)"
   ]
  }
 ],
 "metadata": {
  "kernelspec": {
   "display_name": "deep_learning",
   "language": "python",
   "name": "python3"
  },
  "language_info": {
   "codemirror_mode": {
    "name": "ipython",
    "version": 3
   },
   "file_extension": ".py",
   "mimetype": "text/x-python",
   "name": "python",
   "nbconvert_exporter": "python",
   "pygments_lexer": "ipython3",
   "version": "3.11.4"
  }
 },
 "nbformat": 4,
 "nbformat_minor": 2
}
