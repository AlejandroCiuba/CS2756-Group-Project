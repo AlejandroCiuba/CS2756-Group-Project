{
 "cells": [
  {
   "cell_type": "markdown",
   "metadata": {},
   "source": [
    "# Preprocessing\n",
    "---\n",
    "[Alejandro Ciuba](https://alejandrociuba.github.io), alejandrociuba@pitt.edu\n",
    "---\n",
    "## Overview\n",
    "This notebook preprocesses and splits the data into the necessary training, testing and development splits we used for our studies. It accomplishes the following preprocessing steps:\n",
    "1. Only the majority emotion felt will remain per painting.\n",
    "2. Only utterances associated with the majorit emotion per painting will remain.\n",
    "3. Paintings with uniform distribution of emotions should be removed.\n",
    "\n",
    "It also performs the following actions upon data splitting:\n",
    "1. Seeds the splits in a 70-10-20; training-dev-testing split schema.\n",
    "2. Oversamples underrepresented emotions and undersamples overrepresented emotions.\n",
    "---\n",
    "## Set-Up\n",
    "### Necessary Imports"
   ]
  },
  {
   "cell_type": "code",
   "execution_count": 74,
   "metadata": {},
   "outputs": [],
   "source": [
    "from sklearn.model_selection import train_test_split\n",
    "\n",
    "import numpy as np\n",
    "import pandas as pd"
   ]
  },
  {
   "cell_type": "markdown",
   "metadata": {},
   "source": [
    "### Settings"
   ]
  },
  {
   "cell_type": "code",
   "execution_count": 42,
   "metadata": {},
   "outputs": [
    {
     "name": "stdout",
     "output_type": "stream",
     "text": [
      "Pretty printing has been turned ON\n"
     ]
    }
   ],
   "source": [
    "# Turn this off\n",
    "%pprint\n",
    "pd.set_option('display.max_columns', None)"
   ]
  },
  {
   "cell_type": "markdown",
   "metadata": {},
   "source": [
    "### Globals"
   ]
  },
  {
   "cell_type": "code",
   "execution_count": 75,
   "metadata": {},
   "outputs": [],
   "source": [
    "DATA = \"../data/art_full.csv\"\n",
    "SEED = 42"
   ]
  },
  {
   "cell_type": "markdown",
   "metadata": {},
   "source": [
    "---\n",
    "## Preprocessing"
   ]
  },
  {
   "cell_type": "code",
   "execution_count": 44,
   "metadata": {},
   "outputs": [
    {
     "name": "stdout",
     "output_type": "stream",
     "text": [
      "<class 'pandas.core.frame.DataFrame'>\n",
      "RangeIndex: 454684 entries, 0 to 454683\n",
      "Data columns (total 7 columns):\n",
      " #   Column      Non-Null Count   Dtype  \n",
      "---  ------      --------------   -----  \n",
      " 0   art_style   454684 non-null  object \n",
      " 1   painting    454684 non-null  object \n",
      " 2   emotion     454684 non-null  object \n",
      " 3   utterance   454684 non-null  object \n",
      " 4   repetition  454684 non-null  int64  \n",
      " 5   artist      454684 non-null  object \n",
      " 6   year        268063 non-null  float64\n",
      "dtypes: float64(1), int64(1), object(5)\n",
      "memory usage: 24.3+ MB\n"
     ]
    }
   ],
   "source": [
    "art_df = pd.read_csv(DATA, index_col=False)\n",
    "art_df.info()"
   ]
  },
  {
   "cell_type": "code",
   "execution_count": 67,
   "metadata": {},
   "outputs": [
    {
     "data": {
      "text/html": [
       "<div>\n",
       "<style scoped>\n",
       "    .dataframe tbody tr th:only-of-type {\n",
       "        vertical-align: middle;\n",
       "    }\n",
       "\n",
       "    .dataframe tbody tr th {\n",
       "        vertical-align: top;\n",
       "    }\n",
       "\n",
       "    .dataframe thead th {\n",
       "        text-align: right;\n",
       "    }\n",
       "</style>\n",
       "<table border=\"1\" class=\"dataframe\">\n",
       "  <thead>\n",
       "    <tr style=\"text-align: right;\">\n",
       "      <th></th>\n",
       "      <th>painting</th>\n",
       "      <th>emotion</th>\n",
       "      <th>count</th>\n",
       "    </tr>\n",
       "  </thead>\n",
       "  <tbody>\n",
       "    <tr>\n",
       "      <th>0</th>\n",
       "      <td>a.y.-jackson_algoma-in-november-1935</td>\n",
       "      <td>fear</td>\n",
       "      <td>4</td>\n",
       "    </tr>\n",
       "    <tr>\n",
       "      <th>4</th>\n",
       "      <td>a.y.-jackson_barns-1926</td>\n",
       "      <td>amusement</td>\n",
       "      <td>1</td>\n",
       "    </tr>\n",
       "    <tr>\n",
       "      <th>7</th>\n",
       "      <td>a.y.-jackson_early-spring-quebec-1923</td>\n",
       "      <td>sadness</td>\n",
       "      <td>1</td>\n",
       "    </tr>\n",
       "    <tr>\n",
       "      <th>8</th>\n",
       "      <td>a.y.-jackson_entrance-to-halifax-harbour-1919</td>\n",
       "      <td>contentment</td>\n",
       "      <td>4</td>\n",
       "    </tr>\n",
       "    <tr>\n",
       "      <th>10</th>\n",
       "      <td>a.y.-jackson_first-snow-algoma-country-1920</td>\n",
       "      <td>fear</td>\n",
       "      <td>3</td>\n",
       "    </tr>\n",
       "    <tr>\n",
       "      <th>...</th>\n",
       "      <td>...</td>\n",
       "      <td>...</td>\n",
       "      <td>...</td>\n",
       "    </tr>\n",
       "    <tr>\n",
       "      <th>269272</th>\n",
       "      <td>zinaida-serebriakova_woman-in-blue-1934</td>\n",
       "      <td>contentment</td>\n",
       "      <td>4</td>\n",
       "    </tr>\n",
       "    <tr>\n",
       "      <th>269276</th>\n",
       "      <td>zinaida-serebriakova_work-from-collioure-1930</td>\n",
       "      <td>contentment</td>\n",
       "      <td>1</td>\n",
       "    </tr>\n",
       "    <tr>\n",
       "      <th>269277</th>\n",
       "      <td>zinaida-serebriakova_yevgeny-lanceray-in-a-sha...</td>\n",
       "      <td>amusement</td>\n",
       "      <td>3</td>\n",
       "    </tr>\n",
       "    <tr>\n",
       "      <th>269280</th>\n",
       "      <td>zinaida-serebriakova_young-breton-1934</td>\n",
       "      <td>contentment</td>\n",
       "      <td>3</td>\n",
       "    </tr>\n",
       "    <tr>\n",
       "      <th>269283</th>\n",
       "      <td>zinaida-serebriakova_young-girl</td>\n",
       "      <td>contentment</td>\n",
       "      <td>3</td>\n",
       "    </tr>\n",
       "  </tbody>\n",
       "</table>\n",
       "<p>71219 rows × 3 columns</p>\n",
       "</div>"
      ],
      "text/plain": [
       "                                                 painting      emotion  count\n",
       "0                    a.y.-jackson_algoma-in-november-1935         fear      4\n",
       "4                                 a.y.-jackson_barns-1926    amusement      1\n",
       "7                   a.y.-jackson_early-spring-quebec-1923      sadness      1\n",
       "8           a.y.-jackson_entrance-to-halifax-harbour-1919  contentment      4\n",
       "10            a.y.-jackson_first-snow-algoma-country-1920         fear      3\n",
       "...                                                   ...          ...    ...\n",
       "269272            zinaida-serebriakova_woman-in-blue-1934  contentment      4\n",
       "269276      zinaida-serebriakova_work-from-collioure-1930  contentment      1\n",
       "269277  zinaida-serebriakova_yevgeny-lanceray-in-a-sha...    amusement      3\n",
       "269280             zinaida-serebriakova_young-breton-1934  contentment      3\n",
       "269283                    zinaida-serebriakova_young-girl  contentment      3\n",
       "\n",
       "[71219 rows x 3 columns]"
      ]
     },
     "execution_count": 67,
     "metadata": {},
     "output_type": "execute_result"
    }
   ],
   "source": [
    "# Get the majority emotion per painting and drop uniformly distributed paintings\n",
    "# TODO: Can I get some confirmation that this is correct?\n",
    "max_emo_df = art_df.groupby([\"painting\"], as_index=False).value_counts(subset=[\"emotion\"], sort=True).drop_duplicates([\"painting\", \"count\"], keep=False).drop_duplicates([\"painting\"], keep=\"first\")\n",
    "max_emo_df"
   ]
  },
  {
   "cell_type": "code",
   "execution_count": 68,
   "metadata": {},
   "outputs": [
    {
     "data": {
      "text/plain": [
       "196844"
      ]
     },
     "execution_count": 68,
     "metadata": {},
     "output_type": "execute_result"
    }
   ],
   "source": [
    "# How many unique rows we should have after merging\n",
    "sum(max_emo_df[\"count\"])"
   ]
  },
  {
   "cell_type": "code",
   "execution_count": 73,
   "metadata": {},
   "outputs": [
    {
     "data": {
      "text/plain": [
       "80031"
      ]
     },
     "execution_count": 73,
     "metadata": {},
     "output_type": "execute_result"
    }
   ],
   "source": [
    "# Approx 9k paintings have a uniform distribution of emotions\n",
    "len(art_df[\"painting\"].unique())"
   ]
  },
  {
   "cell_type": "code",
   "execution_count": 69,
   "metadata": {},
   "outputs": [
    {
     "data": {
      "text/html": [
       "<div>\n",
       "<style scoped>\n",
       "    .dataframe tbody tr th:only-of-type {\n",
       "        vertical-align: middle;\n",
       "    }\n",
       "\n",
       "    .dataframe tbody tr th {\n",
       "        vertical-align: top;\n",
       "    }\n",
       "\n",
       "    .dataframe thead th {\n",
       "        text-align: right;\n",
       "    }\n",
       "</style>\n",
       "<table border=\"1\" class=\"dataframe\">\n",
       "  <thead>\n",
       "    <tr style=\"text-align: right;\">\n",
       "      <th></th>\n",
       "      <th>art_style</th>\n",
       "      <th>painting</th>\n",
       "      <th>emotion</th>\n",
       "      <th>utterance</th>\n",
       "      <th>repetition</th>\n",
       "      <th>artist</th>\n",
       "      <th>year</th>\n",
       "      <th>count</th>\n",
       "    </tr>\n",
       "  </thead>\n",
       "  <tbody>\n",
       "    <tr>\n",
       "      <th>0</th>\n",
       "      <td>Abstract_Expressionism</td>\n",
       "      <td>aaron-siskind_per-400-1983</td>\n",
       "      <td>amusement</td>\n",
       "      <td>it looks like there could be a bird walking up...</td>\n",
       "      <td>5</td>\n",
       "      <td>aaron-siskind</td>\n",
       "      <td>1983.0</td>\n",
       "      <td>1</td>\n",
       "    </tr>\n",
       "    <tr>\n",
       "      <th>1</th>\n",
       "      <td>Abstract_Expressionism</td>\n",
       "      <td>abidin-dino_saman-sar-s-illustration</td>\n",
       "      <td>amusement</td>\n",
       "      <td>the cheetah print is very mesmerizing and plea...</td>\n",
       "      <td>5</td>\n",
       "      <td>abidin-dino</td>\n",
       "      <td>NaN</td>\n",
       "      <td>2</td>\n",
       "    </tr>\n",
       "    <tr>\n",
       "      <th>2</th>\n",
       "      <td>Abstract_Expressionism</td>\n",
       "      <td>abidin-dino_saman-sar-s-illustration</td>\n",
       "      <td>amusement</td>\n",
       "      <td>the painting is playful despite the stark colo...</td>\n",
       "      <td>5</td>\n",
       "      <td>abidin-dino</td>\n",
       "      <td>NaN</td>\n",
       "      <td>2</td>\n",
       "    </tr>\n",
       "    <tr>\n",
       "      <th>3</th>\n",
       "      <td>Abstract_Expressionism</td>\n",
       "      <td>alexander-calder_the-dog</td>\n",
       "      <td>amusement</td>\n",
       "      <td>not sure what this represents so its fun to tr...</td>\n",
       "      <td>7</td>\n",
       "      <td>alexander-calder</td>\n",
       "      <td>NaN</td>\n",
       "      <td>4</td>\n",
       "    </tr>\n",
       "    <tr>\n",
       "      <th>4</th>\n",
       "      <td>Abstract_Expressionism</td>\n",
       "      <td>alexander-calder_the-dog</td>\n",
       "      <td>amusement</td>\n",
       "      <td>the sculpture looks to be seals with legs and ...</td>\n",
       "      <td>7</td>\n",
       "      <td>alexander-calder</td>\n",
       "      <td>NaN</td>\n",
       "      <td>4</td>\n",
       "    </tr>\n",
       "  </tbody>\n",
       "</table>\n",
       "</div>"
      ],
      "text/plain": [
       "                art_style                              painting    emotion  \\\n",
       "0  Abstract_Expressionism            aaron-siskind_per-400-1983  amusement   \n",
       "1  Abstract_Expressionism  abidin-dino_saman-sar-s-illustration  amusement   \n",
       "2  Abstract_Expressionism  abidin-dino_saman-sar-s-illustration  amusement   \n",
       "3  Abstract_Expressionism              alexander-calder_the-dog  amusement   \n",
       "4  Abstract_Expressionism              alexander-calder_the-dog  amusement   \n",
       "\n",
       "                                           utterance  repetition  \\\n",
       "0  it looks like there could be a bird walking up...           5   \n",
       "1  the cheetah print is very mesmerizing and plea...           5   \n",
       "2  the painting is playful despite the stark colo...           5   \n",
       "3  not sure what this represents so its fun to tr...           7   \n",
       "4  the sculpture looks to be seals with legs and ...           7   \n",
       "\n",
       "             artist    year  count  \n",
       "0     aaron-siskind  1983.0      1  \n",
       "1       abidin-dino     NaN      2  \n",
       "2       abidin-dino     NaN      2  \n",
       "3  alexander-calder     NaN      4  \n",
       "4  alexander-calder     NaN      4  "
      ]
     },
     "execution_count": 69,
     "metadata": {},
     "output_type": "execute_result"
    }
   ],
   "source": [
    "# Filter by the painting and emotion column\n",
    "new_df = pd.merge(left=art_df, right=max_emo_df, how=\"inner\", on=[\"painting\", \"emotion\"])\n",
    "new_df.head()"
   ]
  },
  {
   "cell_type": "code",
   "execution_count": 70,
   "metadata": {},
   "outputs": [
    {
     "name": "stdout",
     "output_type": "stream",
     "text": [
      "<class 'pandas.core.frame.DataFrame'>\n",
      "RangeIndex: 196844 entries, 0 to 196843\n",
      "Data columns (total 8 columns):\n",
      " #   Column      Non-Null Count   Dtype  \n",
      "---  ------      --------------   -----  \n",
      " 0   art_style   196844 non-null  object \n",
      " 1   painting    196844 non-null  object \n",
      " 2   emotion     196844 non-null  object \n",
      " 3   utterance   196844 non-null  object \n",
      " 4   repetition  196844 non-null  int64  \n",
      " 5   artist      196844 non-null  object \n",
      " 6   year        114631 non-null  float64\n",
      " 7   count       196844 non-null  int64  \n",
      "dtypes: float64(1), int64(2), object(5)\n",
      "memory usage: 12.0+ MB\n"
     ]
    }
   ],
   "source": [
    "new_df.info()"
   ]
  },
  {
   "cell_type": "markdown",
   "metadata": {},
   "source": [
    "---\n",
    "## Split Creation\n",
    "We need to make sure splits contain all emotions"
   ]
  },
  {
   "cell_type": "code",
   "execution_count": 82,
   "metadata": {},
   "outputs": [
    {
     "name": "stdout",
     "output_type": "stream",
     "text": [
      "137790\n",
      "59054\n",
      "9\n",
      "9\n"
     ]
    }
   ],
   "source": [
    "train, test = train_test_split(new_df, train_size=0.7, random_state=SEED, shuffle=True)\n",
    "\n",
    "# Sanity check\n",
    "print(len(train))\n",
    "print(len(test))\n",
    "\n",
    "# Both splits have all emotions\n",
    "print(len(train[\"emotion\"].unique()))\n",
    "print(len(test[\"emotion\"].unique()))"
   ]
  },
  {
   "cell_type": "code",
   "execution_count": 83,
   "metadata": {},
   "outputs": [
    {
     "data": {
      "text/html": [
       "<div>\n",
       "<style scoped>\n",
       "    .dataframe tbody tr th:only-of-type {\n",
       "        vertical-align: middle;\n",
       "    }\n",
       "\n",
       "    .dataframe tbody tr th {\n",
       "        vertical-align: top;\n",
       "    }\n",
       "\n",
       "    .dataframe thead th {\n",
       "        text-align: right;\n",
       "    }\n",
       "</style>\n",
       "<table border=\"1\" class=\"dataframe\">\n",
       "  <thead>\n",
       "    <tr style=\"text-align: right;\">\n",
       "      <th></th>\n",
       "      <th>art_style</th>\n",
       "      <th>painting</th>\n",
       "      <th>emotion</th>\n",
       "      <th>utterance</th>\n",
       "      <th>repetition</th>\n",
       "      <th>artist</th>\n",
       "      <th>year</th>\n",
       "      <th>count</th>\n",
       "    </tr>\n",
       "  </thead>\n",
       "  <tbody>\n",
       "    <tr>\n",
       "      <th>104341</th>\n",
       "      <td>Naive_Art_Primitivism</td>\n",
       "      <td>miriam-schapiro_goncharova-1992</td>\n",
       "      <td>excitement</td>\n",
       "      <td>the orange background color, and th red on her...</td>\n",
       "      <td>5</td>\n",
       "      <td>miriam-schapiro</td>\n",
       "      <td>1992.0</td>\n",
       "      <td>3</td>\n",
       "    </tr>\n",
       "    <tr>\n",
       "      <th>85453</th>\n",
       "      <td>Impressionism</td>\n",
       "      <td>theodor-pallady_debarcader-pe-sena-dinspre-bel...</td>\n",
       "      <td>contentment</td>\n",
       "      <td>the little building has very colorful paint on...</td>\n",
       "      <td>5</td>\n",
       "      <td>theodor-pallady</td>\n",
       "      <td>NaN</td>\n",
       "      <td>3</td>\n",
       "    </tr>\n",
       "    <tr>\n",
       "      <th>133149</th>\n",
       "      <td>Post_Impressionism</td>\n",
       "      <td>albert-marquet_notre-dame-in-winter-1902</td>\n",
       "      <td>something else</td>\n",
       "      <td>ominous landscape and structure setting.  hard...</td>\n",
       "      <td>6</td>\n",
       "      <td>albert-marquet</td>\n",
       "      <td>1902.0</td>\n",
       "      <td>3</td>\n",
       "    </tr>\n",
       "    <tr>\n",
       "      <th>159111</th>\n",
       "      <td>Realism</td>\n",
       "      <td>vincent-van-gogh_peasant-woman-lifting-potatoe...</td>\n",
       "      <td>sadness</td>\n",
       "      <td>this painting gives off old history book vibes...</td>\n",
       "      <td>5</td>\n",
       "      <td>vincent-van-gogh</td>\n",
       "      <td>1885.0</td>\n",
       "      <td>3</td>\n",
       "    </tr>\n",
       "    <tr>\n",
       "      <th>151669</th>\n",
       "      <td>Realism</td>\n",
       "      <td>volodymyr-orlovsky_edge-of-a-wood</td>\n",
       "      <td>contentment</td>\n",
       "      <td>the cows seek shade under the large tree.</td>\n",
       "      <td>5</td>\n",
       "      <td>volodymyr-orlovsky</td>\n",
       "      <td>NaN</td>\n",
       "      <td>4</td>\n",
       "    </tr>\n",
       "    <tr>\n",
       "      <th>151977</th>\n",
       "      <td>Realism</td>\n",
       "      <td>winslow-homer_on-the-trail</td>\n",
       "      <td>contentment</td>\n",
       "      <td>the colors of autumn leaves accompany the man ...</td>\n",
       "      <td>5</td>\n",
       "      <td>winslow-homer</td>\n",
       "      <td>NaN</td>\n",
       "      <td>2</td>\n",
       "    </tr>\n",
       "    <tr>\n",
       "      <th>127724</th>\n",
       "      <td>Post_Impressionism</td>\n",
       "      <td>pyotr-konchalovsky_veranda-essentuki-1948</td>\n",
       "      <td>contentment</td>\n",
       "      <td>a chair on the sunporch as the shine shines th...</td>\n",
       "      <td>5</td>\n",
       "      <td>pyotr-konchalovsky</td>\n",
       "      <td>1948.0</td>\n",
       "      <td>5</td>\n",
       "    </tr>\n",
       "    <tr>\n",
       "      <th>103956</th>\n",
       "      <td>Naive_Art_Primitivism</td>\n",
       "      <td>grã©goire-michonze_scene-de-village</td>\n",
       "      <td>disgust</td>\n",
       "      <td>naked women getting kissed and groped by men.</td>\n",
       "      <td>5</td>\n",
       "      <td>grã©goire-michonze</td>\n",
       "      <td>NaN</td>\n",
       "      <td>3</td>\n",
       "    </tr>\n",
       "    <tr>\n",
       "      <th>25564</th>\n",
       "      <td>Baroque</td>\n",
       "      <td>rembrandt_tobit-and-anna-1659</td>\n",
       "      <td>sadness</td>\n",
       "      <td>the man is breathing his last breathes as he l...</td>\n",
       "      <td>5</td>\n",
       "      <td>rembrandt</td>\n",
       "      <td>1659.0</td>\n",
       "      <td>4</td>\n",
       "    </tr>\n",
       "    <tr>\n",
       "      <th>37800</th>\n",
       "      <td>Early_Renaissance</td>\n",
       "      <td>bartolome-bermejo_piet-of-canon-luis-despl-1490</td>\n",
       "      <td>sadness</td>\n",
       "      <td>there is real sorrow in the woman's face holdi...</td>\n",
       "      <td>6</td>\n",
       "      <td>bartolome-bermejo</td>\n",
       "      <td>1490.0</td>\n",
       "      <td>5</td>\n",
       "    </tr>\n",
       "  </tbody>\n",
       "</table>\n",
       "</div>"
      ],
      "text/plain": [
       "                    art_style  \\\n",
       "104341  Naive_Art_Primitivism   \n",
       "85453           Impressionism   \n",
       "133149     Post_Impressionism   \n",
       "159111                Realism   \n",
       "151669                Realism   \n",
       "151977                Realism   \n",
       "127724     Post_Impressionism   \n",
       "103956  Naive_Art_Primitivism   \n",
       "25564                 Baroque   \n",
       "37800       Early_Renaissance   \n",
       "\n",
       "                                                 painting         emotion  \\\n",
       "104341                    miriam-schapiro_goncharova-1992      excitement   \n",
       "85453   theodor-pallady_debarcader-pe-sena-dinspre-bel...     contentment   \n",
       "133149           albert-marquet_notre-dame-in-winter-1902  something else   \n",
       "159111  vincent-van-gogh_peasant-woman-lifting-potatoe...         sadness   \n",
       "151669                  volodymyr-orlovsky_edge-of-a-wood     contentment   \n",
       "151977                         winslow-homer_on-the-trail     contentment   \n",
       "127724          pyotr-konchalovsky_veranda-essentuki-1948     contentment   \n",
       "103956                grã©goire-michonze_scene-de-village         disgust   \n",
       "25564                       rembrandt_tobit-and-anna-1659         sadness   \n",
       "37800     bartolome-bermejo_piet-of-canon-luis-despl-1490         sadness   \n",
       "\n",
       "                                                utterance  repetition  \\\n",
       "104341  the orange background color, and th red on her...           5   \n",
       "85453   the little building has very colorful paint on...           5   \n",
       "133149  ominous landscape and structure setting.  hard...           6   \n",
       "159111  this painting gives off old history book vibes...           5   \n",
       "151669          the cows seek shade under the large tree.           5   \n",
       "151977  the colors of autumn leaves accompany the man ...           5   \n",
       "127724  a chair on the sunporch as the shine shines th...           5   \n",
       "103956      naked women getting kissed and groped by men.           5   \n",
       "25564   the man is breathing his last breathes as he l...           5   \n",
       "37800   there is real sorrow in the woman's face holdi...           6   \n",
       "\n",
       "                    artist    year  count  \n",
       "104341     miriam-schapiro  1992.0      3  \n",
       "85453      theodor-pallady     NaN      3  \n",
       "133149      albert-marquet  1902.0      3  \n",
       "159111    vincent-van-gogh  1885.0      3  \n",
       "151669  volodymyr-orlovsky     NaN      4  \n",
       "151977       winslow-homer     NaN      2  \n",
       "127724  pyotr-konchalovsky  1948.0      5  \n",
       "103956  grã©goire-michonze     NaN      3  \n",
       "25564            rembrandt  1659.0      4  \n",
       "37800    bartolome-bermejo  1490.0      5  "
      ]
     },
     "execution_count": 83,
     "metadata": {},
     "output_type": "execute_result"
    }
   ],
   "source": [
    "train.head(10)"
   ]
  },
  {
   "cell_type": "markdown",
   "metadata": {},
   "source": [
    "---\n",
    "## Training Set Sampling"
   ]
  }
 ],
 "metadata": {
  "kernelspec": {
   "display_name": "deep_learning",
   "language": "python",
   "name": "python3"
  },
  "language_info": {
   "codemirror_mode": {
    "name": "ipython",
    "version": 3
   },
   "file_extension": ".py",
   "mimetype": "text/x-python",
   "name": "python",
   "nbconvert_exporter": "python",
   "pygments_lexer": "ipython3",
   "version": "3.11.4"
  }
 },
 "nbformat": 4,
 "nbformat_minor": 2
}
