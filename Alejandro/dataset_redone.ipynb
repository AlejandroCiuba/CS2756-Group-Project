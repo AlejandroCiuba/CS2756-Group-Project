{
 "cells": [
  {
   "cell_type": "markdown",
   "metadata": {},
   "source": [
    "# Dataset Redone\n",
    "---\n",
    "[Alejandro Ciuba](https://alejandrociuba.github.io), alejandrociuba@pitt.edu\n",
    "---\n",
    "## Summary\n",
    "\n",
    "We have discovered several issues with our splits:\n",
    "- Contentment is a dominating force which rebalancing does not help\n",
    "- Minority emotions are severely underclassed\n",
    "\n",
    "This required us to completely re-examine how we are treating this dataset. To combat these issues we decided on the following:\n",
    "1. One utterance per painting sampled with a weight on utterance length from the majority emotion (text and image modalities will have equal datapoints)\n",
    "2. Rebalance such that `disgust` and `anger` are grouped together; more statistical power\n",
    "3. Rebalace such that `excitement` and `amusement`; to keep it 3 positive and 3 negative emotions\n",
    "4. Pre-downsample `contentment`; it is just too dominating\n",
    "5. Downsize to have approximately 19k total samples, keeping data proportions; this makes it easier for us to train models\n",
    "6. Perform data splits, stratified to preserve class balancing for the test set\n",
    "---\n",
    "## Setup\n",
    "### Necessary Imports"
   ]
  },
  {
   "cell_type": "code",
   "execution_count": 53,
   "metadata": {},
   "outputs": [],
   "source": [
    "from nltk import word_tokenize\n",
    "from sklearn.model_selection import StratifiedShuffleSplit\n",
    "\n",
    "import matplotlib.pyplot as plt\n",
    "import numpy as np\n",
    "import pandas as pd\n",
    "import seaborn as sns"
   ]
  },
  {
   "cell_type": "markdown",
   "metadata": {},
   "source": [
    "### Settings"
   ]
  },
  {
   "cell_type": "code",
   "execution_count": 75,
   "metadata": {},
   "outputs": [
    {
     "name": "stdout",
     "output_type": "stream",
     "text": [
      "Pretty printing has been turned ON\n"
     ]
    },
    {
     "data": {
      "text/html": [
       "<svg  width=\"550\" height=\"55\"><rect x=\"0\" y=\"0\" width=\"55\" height=\"55\" style=\"fill:#4c72b0;stroke-width:2;stroke:rgb(255,255,255)\"/><rect x=\"55\" y=\"0\" width=\"55\" height=\"55\" style=\"fill:#dd8452;stroke-width:2;stroke:rgb(255,255,255)\"/><rect x=\"110\" y=\"0\" width=\"55\" height=\"55\" style=\"fill:#55a868;stroke-width:2;stroke:rgb(255,255,255)\"/><rect x=\"165\" y=\"0\" width=\"55\" height=\"55\" style=\"fill:#c44e52;stroke-width:2;stroke:rgb(255,255,255)\"/><rect x=\"220\" y=\"0\" width=\"55\" height=\"55\" style=\"fill:#8172b3;stroke-width:2;stroke:rgb(255,255,255)\"/><rect x=\"275\" y=\"0\" width=\"55\" height=\"55\" style=\"fill:#937860;stroke-width:2;stroke:rgb(255,255,255)\"/><rect x=\"330\" y=\"0\" width=\"55\" height=\"55\" style=\"fill:#da8bc3;stroke-width:2;stroke:rgb(255,255,255)\"/><rect x=\"385\" y=\"0\" width=\"55\" height=\"55\" style=\"fill:#8c8c8c;stroke-width:2;stroke:rgb(255,255,255)\"/><rect x=\"440\" y=\"0\" width=\"55\" height=\"55\" style=\"fill:#ccb974;stroke-width:2;stroke:rgb(255,255,255)\"/><rect x=\"495\" y=\"0\" width=\"55\" height=\"55\" style=\"fill:#64b5cd;stroke-width:2;stroke:rgb(255,255,255)\"/></svg>"
      ],
      "text/plain": [
       "[(0.2980392156862745, 0.4470588235294118, 0.6901960784313725),\n",
       " (0.8666666666666667, 0.5176470588235295, 0.3215686274509804),\n",
       " (0.3333333333333333, 0.6588235294117647, 0.40784313725490196),\n",
       " (0.7686274509803922, 0.3058823529411765, 0.3215686274509804),\n",
       " (0.5058823529411764, 0.4470588235294118, 0.7019607843137254),\n",
       " (0.5764705882352941, 0.47058823529411764, 0.3764705882352941),\n",
       " (0.8549019607843137, 0.5450980392156862, 0.7647058823529411),\n",
       " (0.5490196078431373, 0.5490196078431373, 0.5490196078431373),\n",
       " (0.8, 0.7254901960784313, 0.4549019607843137),\n",
       " (0.39215686274509803, 0.7098039215686275, 0.803921568627451)]"
      ]
     },
     "execution_count": 75,
     "metadata": {},
     "output_type": "execute_result"
    }
   ],
   "source": [
    "# Turn this off\n",
    "%pprint\n",
    "pd.set_option('display.max_columns', None)\n",
    "plt.style.use('ggplot')\n",
    "sns.set_palette(\"deep\")\n",
    "sns.color_palette(\"deep\")"
   ]
  },
  {
   "cell_type": "markdown",
   "metadata": {},
   "source": [
    "### Globals"
   ]
  },
  {
   "cell_type": "code",
   "execution_count": 3,
   "metadata": {},
   "outputs": [],
   "source": [
    "DATA = \"../data/splits.csv\"\n",
    "SEED = 42"
   ]
  },
  {
   "cell_type": "markdown",
   "metadata": {},
   "source": [
    "### Dataset"
   ]
  },
  {
   "cell_type": "code",
   "execution_count": 4,
   "metadata": {},
   "outputs": [
    {
     "name": "stdout",
     "output_type": "stream",
     "text": [
      "<class 'pandas.core.frame.DataFrame'>\n",
      "RangeIndex: 196844 entries, 0 to 196843\n",
      "Data columns (total 6 columns):\n",
      " #   Column     Non-Null Count   Dtype  \n",
      "---  ------     --------------   -----  \n",
      " 0   painting   196844 non-null  object \n",
      " 1   artist     196844 non-null  object \n",
      " 2   art_style  196844 non-null  object \n",
      " 3   year       114631 non-null  float64\n",
      " 4   utterance  196844 non-null  object \n",
      " 5   emotion    196844 non-null  object \n",
      "dtypes: float64(1), object(5)\n",
      "memory usage: 9.0+ MB\n"
     ]
    }
   ],
   "source": [
    "# Start from here since we already filtered out minority emotions\n",
    "df = pd.read_csv(DATA, index_col=False).drop(columns=[\"split\", \"count\", \"repetition\"])\n",
    "df.info()"
   ]
  },
  {
   "cell_type": "markdown",
   "metadata": {},
   "source": [
    "---\n",
    "## 1. One Utterance per Painting"
   ]
  },
  {
   "cell_type": "code",
   "execution_count": 5,
   "metadata": {},
   "outputs": [
    {
     "data": {
      "text/plain": [
       "71219"
      ]
     },
     "execution_count": 5,
     "metadata": {},
     "output_type": "execute_result"
    }
   ],
   "source": [
    "# This should stay the same after our operation\n",
    "UNIQUE = len(df[\"painting\"].unique())\n",
    "UNIQUE"
   ]
  },
  {
   "cell_type": "code",
   "execution_count": 6,
   "metadata": {},
   "outputs": [],
   "source": [
    "# Get utterance length\n",
    "df[\"len\"] = df[\"utterance\"].map(lambda x: len(word_tokenize(x)))"
   ]
  },
  {
   "cell_type": "code",
   "execution_count": 7,
   "metadata": {},
   "outputs": [
    {
     "data": {
      "text/plain": [
       "painting                         marc-chagall_the-fiddler-1913\n",
       "artist                                            marc-chagall\n",
       "art_style                                               Cubism\n",
       "year                                                    1913.0\n",
       "utterance    the white snow is a great backdrop for this, a...\n",
       "emotion                                              amusement\n",
       "len                                                        226\n",
       "Name: 53176, dtype: object"
      ]
     },
     "execution_count": 7,
     "metadata": {},
     "output_type": "execute_result"
    }
   ],
   "source": [
    "df.iloc[df[\"len\"].idxmax(), :]"
   ]
  },
  {
   "cell_type": "code",
   "execution_count": 8,
   "metadata": {},
   "outputs": [],
   "source": [
    "df = df.sort_values(by=[\"painting\"])\n",
    "df = df.groupby([\"painting\"]).sample(1, weights=df[\"len\"], random_state=SEED).reset_index(drop=True)"
   ]
  },
  {
   "cell_type": "code",
   "execution_count": 9,
   "metadata": {},
   "outputs": [
    {
     "name": "stdout",
     "output_type": "stream",
     "text": [
      "<class 'pandas.core.frame.DataFrame'>\n",
      "RangeIndex: 71219 entries, 0 to 71218\n",
      "Data columns (total 7 columns):\n",
      " #   Column     Non-Null Count  Dtype  \n",
      "---  ------     --------------  -----  \n",
      " 0   painting   71219 non-null  object \n",
      " 1   artist     71219 non-null  object \n",
      " 2   art_style  71219 non-null  object \n",
      " 3   year       41727 non-null  float64\n",
      " 4   utterance  71219 non-null  object \n",
      " 5   emotion    71219 non-null  object \n",
      " 6   len        71219 non-null  int64  \n",
      "dtypes: float64(1), int64(1), object(5)\n",
      "memory usage: 3.8+ MB\n"
     ]
    }
   ],
   "source": [
    "df.info()"
   ]
  },
  {
   "cell_type": "markdown",
   "metadata": {},
   "source": [
    "---\n",
    "## 2. Merge `disgust` and `anger`\n",
    "\n",
    "Name will simply be `disgust-anger`."
   ]
  },
  {
   "cell_type": "code",
   "execution_count": 10,
   "metadata": {},
   "outputs": [],
   "source": [
    "df[\"emotion\"] = df[\"emotion\"].map(lambda x: \"disgust-anger\" if x in [\"disgust\", \"anger\"] else x)"
   ]
  },
  {
   "cell_type": "code",
   "execution_count": 11,
   "metadata": {},
   "outputs": [
    {
     "data": {
      "text/plain": [
       "array(['fear', 'amusement', 'sadness', 'contentment', 'excitement', 'awe',\n",
       "       'something else', 'disgust-anger'], dtype=object)"
      ]
     },
     "execution_count": 11,
     "metadata": {},
     "output_type": "execute_result"
    }
   ],
   "source": [
    "df[\"emotion\"].unique()"
   ]
  },
  {
   "cell_type": "code",
   "execution_count": 12,
   "metadata": {},
   "outputs": [
    {
     "name": "stdout",
     "output_type": "stream",
     "text": [
      "<class 'pandas.core.frame.DataFrame'>\n",
      "RangeIndex: 71219 entries, 0 to 71218\n",
      "Data columns (total 7 columns):\n",
      " #   Column     Non-Null Count  Dtype  \n",
      "---  ------     --------------  -----  \n",
      " 0   painting   71219 non-null  object \n",
      " 1   artist     71219 non-null  object \n",
      " 2   art_style  71219 non-null  object \n",
      " 3   year       41727 non-null  float64\n",
      " 4   utterance  71219 non-null  object \n",
      " 5   emotion    71219 non-null  object \n",
      " 6   len        71219 non-null  int64  \n",
      "dtypes: float64(1), int64(1), object(5)\n",
      "memory usage: 3.8+ MB\n"
     ]
    }
   ],
   "source": [
    "df.info()"
   ]
  },
  {
   "cell_type": "markdown",
   "metadata": {},
   "source": [
    "---\n",
    "## 3. Merge `excitement` and `amusement`\n",
    "\n",
    "Name will simply be `excitement-amusement`."
   ]
  },
  {
   "cell_type": "code",
   "execution_count": 13,
   "metadata": {},
   "outputs": [],
   "source": [
    "df[\"emotion\"] = df[\"emotion\"].map(lambda x: \"excitement-amusement\" if x in [\"excitement\", \"amusement\"] else x)"
   ]
  },
  {
   "cell_type": "code",
   "execution_count": 14,
   "metadata": {},
   "outputs": [
    {
     "data": {
      "text/plain": [
       "array(['fear', 'excitement-amusement', 'sadness', 'contentment', 'awe',\n",
       "       'something else', 'disgust-anger'], dtype=object)"
      ]
     },
     "execution_count": 14,
     "metadata": {},
     "output_type": "execute_result"
    }
   ],
   "source": [
    "df[\"emotion\"].unique()"
   ]
  },
  {
   "cell_type": "code",
   "execution_count": 15,
   "metadata": {},
   "outputs": [
    {
     "name": "stdout",
     "output_type": "stream",
     "text": [
      "<class 'pandas.core.frame.DataFrame'>\n",
      "RangeIndex: 71219 entries, 0 to 71218\n",
      "Data columns (total 7 columns):\n",
      " #   Column     Non-Null Count  Dtype  \n",
      "---  ------     --------------  -----  \n",
      " 0   painting   71219 non-null  object \n",
      " 1   artist     71219 non-null  object \n",
      " 2   art_style  71219 non-null  object \n",
      " 3   year       41727 non-null  float64\n",
      " 4   utterance  71219 non-null  object \n",
      " 5   emotion    71219 non-null  object \n",
      " 6   len        71219 non-null  int64  \n",
      "dtypes: float64(1), int64(1), object(5)\n",
      "memory usage: 3.8+ MB\n"
     ]
    }
   ],
   "source": [
    "df.info()"
   ]
  },
  {
   "cell_type": "markdown",
   "metadata": {},
   "source": [
    "---\n",
    "## 4. Downsample `contentment`\n",
    "\n",
    "Let's figure out how much to downsample by"
   ]
  },
  {
   "cell_type": "code",
   "execution_count": 16,
   "metadata": {},
   "outputs": [
    {
     "data": {
      "text/plain": [
       "<Axes: xlabel='emotion'>"
      ]
     },
     "execution_count": 16,
     "metadata": {},
     "output_type": "execute_result"
    },
    {
     "data": {
      "image/png": "[encoded data removed]",
      "text/plain": [
       "<Figure size 640x480 with 1 Axes>"
      ]
     },
     "metadata": {},
     "output_type": "display_data"
    }
   ],
   "source": [
    "df[\"emotion\"].value_counts(normalize=True).plot(kind=\"bar\")"
   ]
  },
  {
   "cell_type": "code",
   "execution_count": 17,
   "metadata": {},
   "outputs": [
    {
     "data": {
      "text/plain": [
       "25074"
      ]
     },
     "execution_count": 17,
     "metadata": {},
     "output_type": "execute_result"
    }
   ],
   "source": [
    "len(df[df[\"emotion\"] == \"contentment\"])"
   ]
  },
  {
   "cell_type": "markdown",
   "metadata": {},
   "source": [
    "Downsample by a factor of 2.5."
   ]
  },
  {
   "cell_type": "code",
   "execution_count": 18,
   "metadata": {},
   "outputs": [
    {
     "data": {
      "text/plain": [
       "0         True\n",
       "1         True\n",
       "2         True\n",
       "3         True\n",
       "4         True\n",
       "         ...  \n",
       "71214    False\n",
       "71215     True\n",
       "71216     True\n",
       "71217    False\n",
       "71218     True\n",
       "Length: 71219, dtype: bool"
      ]
     },
     "execution_count": 18,
     "metadata": {},
     "output_type": "execute_result"
    }
   ],
   "source": [
    "cont_sample = df[\"painting\"].isin(df[df[\"emotion\"] == \"contentment\"].sample(frac=0.4, random_state=SEED)[\"painting\"])\n",
    "other = df[\"emotion\"] != \"contentment\"\n",
    "mask = cont_sample | other\n",
    "mask"
   ]
  },
  {
   "cell_type": "code",
   "execution_count": 19,
   "metadata": {},
   "outputs": [],
   "source": [
    "df = df[mask]"
   ]
  },
  {
   "cell_type": "code",
   "execution_count": 20,
   "metadata": {},
   "outputs": [
    {
     "data": {
      "text/plain": [
       "<Axes: xlabel='emotion'>"
      ]
     },
     "execution_count": 20,
     "metadata": {},
     "output_type": "execute_result"
    },
    {
     "data": {
      "image/png": "[encoded data removed]",
      "text/plain": [
       "<Figure size 640x480 with 1 Axes>"
      ]
     },
     "metadata": {},
     "output_type": "display_data"
    }
   ],
   "source": [
    "df[\"emotion\"].value_counts(normalize=True).plot(kind=\"bar\")"
   ]
  },
  {
   "cell_type": "code",
   "execution_count": 21,
   "metadata": {},
   "outputs": [
    {
     "name": "stdout",
     "output_type": "stream",
     "text": [
      "<class 'pandas.core.frame.DataFrame'>\n",
      "Index: 56175 entries, 0 to 71218\n",
      "Data columns (total 7 columns):\n",
      " #   Column     Non-Null Count  Dtype  \n",
      "---  ------     --------------  -----  \n",
      " 0   painting   56175 non-null  object \n",
      " 1   artist     56175 non-null  object \n",
      " 2   art_style  56175 non-null  object \n",
      " 3   year       33168 non-null  float64\n",
      " 4   utterance  56175 non-null  object \n",
      " 5   emotion    56175 non-null  object \n",
      " 6   len        56175 non-null  int64  \n",
      "dtypes: float64(1), int64(1), object(5)\n",
      "memory usage: 3.4+ MB\n"
     ]
    }
   ],
   "source": [
    "df.info()"
   ]
  },
  {
   "cell_type": "code",
   "execution_count": 22,
   "metadata": {},
   "outputs": [],
   "source": [
    "# Add the factor column\n",
    "df[\"factor\"] = df[\"emotion\"].map(lambda x: 2.5 if x == \"contentment\" else 1.0)"
   ]
  },
  {
   "cell_type": "code",
   "execution_count": 23,
   "metadata": {},
   "outputs": [
    {
     "data": {
      "text/html": [
       "<div>\n",
       "<style scoped>\n",
       "    .dataframe tbody tr th:only-of-type {\n",
       "        vertical-align: middle;\n",
       "    }\n",
       "\n",
       "    .dataframe tbody tr th {\n",
       "        vertical-align: top;\n",
       "    }\n",
       "\n",
       "    .dataframe thead th {\n",
       "        text-align: right;\n",
       "    }\n",
       "</style>\n",
       "<table border=\"1\" class=\"dataframe\">\n",
       "  <thead>\n",
       "    <tr style=\"text-align: right;\">\n",
       "      <th></th>\n",
       "      <th>painting</th>\n",
       "      <th>artist</th>\n",
       "      <th>art_style</th>\n",
       "      <th>year</th>\n",
       "      <th>utterance</th>\n",
       "      <th>emotion</th>\n",
       "      <th>len</th>\n",
       "      <th>factor</th>\n",
       "    </tr>\n",
       "  </thead>\n",
       "  <tbody>\n",
       "    <tr>\n",
       "      <th>15779</th>\n",
       "      <td>edward-burne-jones_the-soul-attains</td>\n",
       "      <td>edward-burne-jones</td>\n",
       "      <td>Romanticism</td>\n",
       "      <td>NaN</td>\n",
       "      <td>this picture is beautiful with how realistic b...</td>\n",
       "      <td>awe</td>\n",
       "      <td>13</td>\n",
       "      <td>1.0</td>\n",
       "    </tr>\n",
       "    <tr>\n",
       "      <th>29327</th>\n",
       "      <td>iosif-iser_seated-woman-with-yellow-jacket</td>\n",
       "      <td>iosif-iser</td>\n",
       "      <td>Expressionism</td>\n",
       "      <td>NaN</td>\n",
       "      <td>the woman looks angry. the detail in this is i...</td>\n",
       "      <td>awe</td>\n",
       "      <td>26</td>\n",
       "      <td>1.0</td>\n",
       "    </tr>\n",
       "    <tr>\n",
       "      <th>28949</th>\n",
       "      <td>ilya-repin_portrait-of-the-author-leonid-andre...</td>\n",
       "      <td>ilya-repin</td>\n",
       "      <td>Realism</td>\n",
       "      <td>1904.0</td>\n",
       "      <td>he looks like he is thinking of someone he lost.</td>\n",
       "      <td>sadness</td>\n",
       "      <td>11</td>\n",
       "      <td>1.0</td>\n",
       "    </tr>\n",
       "    <tr>\n",
       "      <th>70114</th>\n",
       "      <td>william-merritt-chase_the-lake-for-miniature-y...</td>\n",
       "      <td>william-merritt-chase</td>\n",
       "      <td>Impressionism</td>\n",
       "      <td>NaN</td>\n",
       "      <td>the colors used to illustrate that it's a nice...</td>\n",
       "      <td>awe</td>\n",
       "      <td>12</td>\n",
       "      <td>1.0</td>\n",
       "    </tr>\n",
       "    <tr>\n",
       "      <th>6453</th>\n",
       "      <td>barnett-newman_onement-i-1948</td>\n",
       "      <td>barnett-newman</td>\n",
       "      <td>Color_Field_Painting</td>\n",
       "      <td>1948.0</td>\n",
       "      <td>the orange line is slightly sloppy creating a ...</td>\n",
       "      <td>fear</td>\n",
       "      <td>26</td>\n",
       "      <td>1.0</td>\n",
       "    </tr>\n",
       "    <tr>\n",
       "      <th>54470</th>\n",
       "      <td>pierre-alechinsky_pleasant-surrounding-un-bon-...</td>\n",
       "      <td>pierre-alechinsky</td>\n",
       "      <td>Expressionism</td>\n",
       "      <td>1962.0</td>\n",
       "      <td>the voices in his head have finally gotten out</td>\n",
       "      <td>fear</td>\n",
       "      <td>9</td>\n",
       "      <td>1.0</td>\n",
       "    </tr>\n",
       "    <tr>\n",
       "      <th>34240</th>\n",
       "      <td>joan-miro_portrait-of-a-spanish-dancer</td>\n",
       "      <td>joan-miro</td>\n",
       "      <td>Cubism</td>\n",
       "      <td>NaN</td>\n",
       "      <td>the colors as well as the shapes used to shape...</td>\n",
       "      <td>awe</td>\n",
       "      <td>19</td>\n",
       "      <td>1.0</td>\n",
       "    </tr>\n",
       "    <tr>\n",
       "      <th>58265</th>\n",
       "      <td>raphael_isaac-and-rebecca-spied-upon-by-abimel...</td>\n",
       "      <td>raphael</td>\n",
       "      <td>High_Renaissance</td>\n",
       "      <td>1519.0</td>\n",
       "      <td>the white specs all over the painting remind m...</td>\n",
       "      <td>awe</td>\n",
       "      <td>27</td>\n",
       "      <td>1.0</td>\n",
       "    </tr>\n",
       "    <tr>\n",
       "      <th>65802</th>\n",
       "      <td>vasily-surikov_portrait-of-e-n-sabashnikova-1907</td>\n",
       "      <td>vasily-surikov</td>\n",
       "      <td>Realism</td>\n",
       "      <td>1907.0</td>\n",
       "      <td>feel neutral due to the dull colors of the dre...</td>\n",
       "      <td>something else</td>\n",
       "      <td>12</td>\n",
       "      <td>1.0</td>\n",
       "    </tr>\n",
       "    <tr>\n",
       "      <th>4609</th>\n",
       "      <td>annibale-carracci_the-butcher-s-shop</td>\n",
       "      <td>annibale-carracci</td>\n",
       "      <td>Baroque</td>\n",
       "      <td>NaN</td>\n",
       "      <td>it's kind of gross to look at meat hanging up ...</td>\n",
       "      <td>disgust-anger</td>\n",
       "      <td>21</td>\n",
       "      <td>1.0</td>\n",
       "    </tr>\n",
       "    <tr>\n",
       "      <th>40532</th>\n",
       "      <td>le-nain-brothers_christ-on-the-cross</td>\n",
       "      <td>le-nain-brothers</td>\n",
       "      <td>Baroque</td>\n",
       "      <td>NaN</td>\n",
       "      <td>the dark colors and way the women look as if t...</td>\n",
       "      <td>sadness</td>\n",
       "      <td>23</td>\n",
       "      <td>1.0</td>\n",
       "    </tr>\n",
       "    <tr>\n",
       "      <th>9712</th>\n",
       "      <td>caravaggio_crucifixion-of-saint-andrew-1607(1)</td>\n",
       "      <td>caravaggio</td>\n",
       "      <td>Baroque</td>\n",
       "      <td>1607.0</td>\n",
       "      <td>the man looks to be starved and in severe pain...</td>\n",
       "      <td>disgust-anger</td>\n",
       "      <td>16</td>\n",
       "      <td>1.0</td>\n",
       "    </tr>\n",
       "    <tr>\n",
       "      <th>25188</th>\n",
       "      <td>gustave-moreau_the-mystic-flower</td>\n",
       "      <td>gustave-moreau</td>\n",
       "      <td>Symbolism</td>\n",
       "      <td>NaN</td>\n",
       "      <td>the people are looking reverently at the woman...</td>\n",
       "      <td>awe</td>\n",
       "      <td>13</td>\n",
       "      <td>1.0</td>\n",
       "    </tr>\n",
       "    <tr>\n",
       "      <th>49232</th>\n",
       "      <td>nicolae-grigorescu_peasant-woman-with-pitcher</td>\n",
       "      <td>nicolae-grigorescu</td>\n",
       "      <td>Realism</td>\n",
       "      <td>NaN</td>\n",
       "      <td>i like the confidence the woman seems to displ...</td>\n",
       "      <td>contentment</td>\n",
       "      <td>22</td>\n",
       "      <td>2.5</td>\n",
       "    </tr>\n",
       "    <tr>\n",
       "      <th>60654</th>\n",
       "      <td>salvador-dali_port-alguer-1</td>\n",
       "      <td>salvador-dali</td>\n",
       "      <td>Impressionism</td>\n",
       "      <td>NaN</td>\n",
       "      <td>it feels like it could be the peaceful atmosph...</td>\n",
       "      <td>contentment</td>\n",
       "      <td>17</td>\n",
       "      <td>2.5</td>\n",
       "    </tr>\n",
       "  </tbody>\n",
       "</table>\n",
       "</div>"
      ],
      "text/plain": [
       "                                                painting  \\\n",
       "15779                edward-burne-jones_the-soul-attains   \n",
       "29327         iosif-iser_seated-woman-with-yellow-jacket   \n",
       "28949  ilya-repin_portrait-of-the-author-leonid-andre...   \n",
       "70114  william-merritt-chase_the-lake-for-miniature-y...   \n",
       "6453                       barnett-newman_onement-i-1948   \n",
       "54470  pierre-alechinsky_pleasant-surrounding-un-bon-...   \n",
       "34240             joan-miro_portrait-of-a-spanish-dancer   \n",
       "58265  raphael_isaac-and-rebecca-spied-upon-by-abimel...   \n",
       "65802   vasily-surikov_portrait-of-e-n-sabashnikova-1907   \n",
       "4609                annibale-carracci_the-butcher-s-shop   \n",
       "40532               le-nain-brothers_christ-on-the-cross   \n",
       "9712      caravaggio_crucifixion-of-saint-andrew-1607(1)   \n",
       "25188                   gustave-moreau_the-mystic-flower   \n",
       "49232      nicolae-grigorescu_peasant-woman-with-pitcher   \n",
       "60654                        salvador-dali_port-alguer-1   \n",
       "\n",
       "                      artist             art_style    year  \\\n",
       "15779     edward-burne-jones           Romanticism     NaN   \n",
       "29327             iosif-iser         Expressionism     NaN   \n",
       "28949             ilya-repin               Realism  1904.0   \n",
       "70114  william-merritt-chase         Impressionism     NaN   \n",
       "6453          barnett-newman  Color_Field_Painting  1948.0   \n",
       "54470      pierre-alechinsky         Expressionism  1962.0   \n",
       "34240              joan-miro                Cubism     NaN   \n",
       "58265                raphael      High_Renaissance  1519.0   \n",
       "65802         vasily-surikov               Realism  1907.0   \n",
       "4609       annibale-carracci               Baroque     NaN   \n",
       "40532       le-nain-brothers               Baroque     NaN   \n",
       "9712              caravaggio               Baroque  1607.0   \n",
       "25188         gustave-moreau             Symbolism     NaN   \n",
       "49232     nicolae-grigorescu               Realism     NaN   \n",
       "60654          salvador-dali         Impressionism     NaN   \n",
       "\n",
       "                                               utterance         emotion  len  \\\n",
       "15779  this picture is beautiful with how realistic b...             awe   13   \n",
       "29327  the woman looks angry. the detail in this is i...             awe   26   \n",
       "28949   he looks like he is thinking of someone he lost.         sadness   11   \n",
       "70114  the colors used to illustrate that it's a nice...             awe   12   \n",
       "6453   the orange line is slightly sloppy creating a ...            fear   26   \n",
       "54470     the voices in his head have finally gotten out            fear    9   \n",
       "34240  the colors as well as the shapes used to shape...             awe   19   \n",
       "58265  the white specs all over the painting remind m...             awe   27   \n",
       "65802  feel neutral due to the dull colors of the dre...  something else   12   \n",
       "4609   it's kind of gross to look at meat hanging up ...   disgust-anger   21   \n",
       "40532  the dark colors and way the women look as if t...         sadness   23   \n",
       "9712   the man looks to be starved and in severe pain...   disgust-anger   16   \n",
       "25188  the people are looking reverently at the woman...             awe   13   \n",
       "49232  i like the confidence the woman seems to displ...     contentment   22   \n",
       "60654  it feels like it could be the peaceful atmosph...     contentment   17   \n",
       "\n",
       "       factor  \n",
       "15779     1.0  \n",
       "29327     1.0  \n",
       "28949     1.0  \n",
       "70114     1.0  \n",
       "6453      1.0  \n",
       "54470     1.0  \n",
       "34240     1.0  \n",
       "58265     1.0  \n",
       "65802     1.0  \n",
       "4609      1.0  \n",
       "40532     1.0  \n",
       "9712      1.0  \n",
       "25188     1.0  \n",
       "49232     2.5  \n",
       "60654     2.5  "
      ]
     },
     "execution_count": 23,
     "metadata": {},
     "output_type": "execute_result"
    }
   ],
   "source": [
    "df.sample(15, random_state=SEED)"
   ]
  },
  {
   "cell_type": "markdown",
   "metadata": {},
   "source": [
    "---\n",
    "## 5. Dataset Downsize"
   ]
  },
  {
   "cell_type": "code",
   "execution_count": 24,
   "metadata": {},
   "outputs": [],
   "source": [
    "FACTOR = 2.956578947\n",
    "# Truly random to not make it too biased towards longer descriptions\n",
    "down_df = df.groupby([\"emotion\"]).sample(frac=1/FACTOR, random_state=SEED).reset_index(drop=True)"
   ]
  },
  {
   "cell_type": "code",
   "execution_count": 25,
   "metadata": {},
   "outputs": [
    {
     "name": "stdout",
     "output_type": "stream",
     "text": [
      "<class 'pandas.core.frame.DataFrame'>\n",
      "RangeIndex: 19000 entries, 0 to 18999\n",
      "Data columns (total 8 columns):\n",
      " #   Column     Non-Null Count  Dtype  \n",
      "---  ------     --------------  -----  \n",
      " 0   painting   19000 non-null  object \n",
      " 1   artist     19000 non-null  object \n",
      " 2   art_style  19000 non-null  object \n",
      " 3   year       11221 non-null  float64\n",
      " 4   utterance  19000 non-null  object \n",
      " 5   emotion    19000 non-null  object \n",
      " 6   len        19000 non-null  int64  \n",
      " 7   factor     19000 non-null  float64\n",
      "dtypes: float64(2), int64(1), object(5)\n",
      "memory usage: 1.2+ MB\n"
     ]
    }
   ],
   "source": [
    "down_df.info()"
   ]
  },
  {
   "cell_type": "code",
   "execution_count": 80,
   "metadata": {},
   "outputs": [
    {
     "name": "stderr",
     "output_type": "stream",
     "text": [
      "/tmp/ipykernel_18142/3685188771.py:2: UserWarning: The palette list has more values (10) than needed (7), which may not be intended.\n",
      "  ax = sns.countplot(down_df, x='emotion', stat='percent', hue='emotion', order=top, hue_order=top, palette=sns.color_palette(\"colorblind\"))\n"
     ]
    },
    {
     "data": {
      "image/png": "[encoded data removed]",
      "text/plain": [
       "<Figure size 640x480 with 1 Axes>"
      ]
     },
     "metadata": {},
     "output_type": "display_data"
    }
   ],
   "source": [
    "top = down_df[\"emotion\"].value_counts().index\n",
    "ax = sns.countplot(down_df, x='emotion', stat='percent', hue='emotion', order=top, hue_order=top, palette=sns.color_palette(\"colorblind\"))\n",
    "ax.tick_params('x', rotation=45)\n",
    "ax.set_xlabel('Emotion')\n",
    "ax.set_ylabel('Percentage')\n",
    "\n",
    "for c in ax.containers:\n",
    "    ax.bar_label(c, fmt=\"%.2f\")\n",
    "\n",
    "plt.tight_layout()\n",
    "\n",
    "plt.savefig(\"figures/dist-after.pdf\", format=\"pdf\")"
   ]
  },
  {
   "cell_type": "code",
   "execution_count": 81,
   "metadata": {},
   "outputs": [
    {
     "name": "stderr",
     "output_type": "stream",
     "text": [
      "/tmp/ipykernel_18142/2931571072.py:2: UserWarning: \n",
      "The palette list has fewer values (10) than needed (27) and will cycle, which may produce an uninterpretable plot.\n",
      "  ax = sns.countplot(down_df, x='art_style', stat='percent', hue='art_style', order=top, hue_order=top, palette=sns.color_palette(\"colorblind\"))\n"
     ]
    },
    {
     "data": {
      "image/png": "[encoded data removed]",
      "text/plain": [
       "<Figure size 640x480 with 1 Axes>"
      ]
     },
     "metadata": {},
     "output_type": "display_data"
    }
   ],
   "source": [
    "top = down_df[\"art_style\"].value_counts().index\n",
    "ax = sns.countplot(down_df, x='art_style', stat='percent', hue='art_style', order=top, hue_order=top, palette=sns.color_palette(\"colorblind\"))\n",
    "ax.tick_params('x', rotation=90)\n",
    "ax.set_xlabel('Art Style')\n",
    "ax.set_ylabel('Percentage')\n",
    "\n",
    "# for c in ax.containers:\n",
    "#     ax.bar_label(c, fmt=\"%.2f\")\n",
    "\n",
    "plt.tight_layout()\n",
    "\n",
    "plt.savefig(\"figures/dist-after-style.pdf\", format=\"pdf\")"
   ]
  },
  {
   "cell_type": "markdown",
   "metadata": {},
   "source": [
    "---\n",
    "## Stratified Splits"
   ]
  },
  {
   "cell_type": "code",
   "execution_count": 27,
   "metadata": {},
   "outputs": [
    {
     "data": {
      "text/html": [
       "<div>\n",
       "<style scoped>\n",
       "    .dataframe tbody tr th:only-of-type {\n",
       "        vertical-align: middle;\n",
       "    }\n",
       "\n",
       "    .dataframe tbody tr th {\n",
       "        vertical-align: top;\n",
       "    }\n",
       "\n",
       "    .dataframe thead th {\n",
       "        text-align: right;\n",
       "    }\n",
       "</style>\n",
       "<table border=\"1\" class=\"dataframe\">\n",
       "  <thead>\n",
       "    <tr style=\"text-align: right;\">\n",
       "      <th></th>\n",
       "      <th>painting</th>\n",
       "      <th>artist</th>\n",
       "      <th>art_style</th>\n",
       "      <th>year</th>\n",
       "      <th>utterance</th>\n",
       "      <th>emotion</th>\n",
       "      <th>len</th>\n",
       "      <th>factor</th>\n",
       "    </tr>\n",
       "  </thead>\n",
       "  <tbody>\n",
       "    <tr>\n",
       "      <th>0</th>\n",
       "      <td>lorenzo-lotto_st-jerome-in-the-desert-1</td>\n",
       "      <td>lorenzo-lotto</td>\n",
       "      <td>High_Renaissance</td>\n",
       "      <td>NaN</td>\n",
       "      <td>very powerful and strong subjects.  love the u...</td>\n",
       "      <td>awe</td>\n",
       "      <td>23</td>\n",
       "      <td>1.0</td>\n",
       "    </tr>\n",
       "    <tr>\n",
       "      <th>1</th>\n",
       "      <td>john-singer-sargent_fumee-d-ambre-gris-1880</td>\n",
       "      <td>john-singer-sargent</td>\n",
       "      <td>Realism</td>\n",
       "      <td>1880.0</td>\n",
       "      <td>the detail in the woman's attire is absolutely...</td>\n",
       "      <td>awe</td>\n",
       "      <td>11</td>\n",
       "      <td>1.0</td>\n",
       "    </tr>\n",
       "    <tr>\n",
       "      <th>2</th>\n",
       "      <td>giovanni-boldini_madame-michelham-1913</td>\n",
       "      <td>giovanni-boldini</td>\n",
       "      <td>Realism</td>\n",
       "      <td>1913.0</td>\n",
       "      <td>the woman's clothing has wonderful curves and ...</td>\n",
       "      <td>awe</td>\n",
       "      <td>11</td>\n",
       "      <td>1.0</td>\n",
       "    </tr>\n",
       "    <tr>\n",
       "      <th>3</th>\n",
       "      <td>hans-baldung_adoration-of-the-magi-1507</td>\n",
       "      <td>hans-baldung</td>\n",
       "      <td>Northern_Renaissance</td>\n",
       "      <td>1507.0</td>\n",
       "      <td>a precious baby is given all the attention in ...</td>\n",
       "      <td>awe</td>\n",
       "      <td>17</td>\n",
       "      <td>1.0</td>\n",
       "    </tr>\n",
       "    <tr>\n",
       "      <th>4</th>\n",
       "      <td>fyodor-bronnikov_abandoned-1873</td>\n",
       "      <td>fyodor-bronnikov</td>\n",
       "      <td>Realism</td>\n",
       "      <td>1873.0</td>\n",
       "      <td>this is beautifully drawn and i feel awe as i ...</td>\n",
       "      <td>awe</td>\n",
       "      <td>33</td>\n",
       "      <td>1.0</td>\n",
       "    </tr>\n",
       "    <tr>\n",
       "      <th>5</th>\n",
       "      <td>mabuse_portrait-of-chancellor-jean-carondelet-...</td>\n",
       "      <td>mabuse</td>\n",
       "      <td>Northern_Renaissance</td>\n",
       "      <td>1517.0</td>\n",
       "      <td>he has an expression of deep understanding and...</td>\n",
       "      <td>awe</td>\n",
       "      <td>19</td>\n",
       "      <td>1.0</td>\n",
       "    </tr>\n",
       "    <tr>\n",
       "      <th>6</th>\n",
       "      <td>ogata-gekko_odori-dancer</td>\n",
       "      <td>ogata-gekko</td>\n",
       "      <td>Ukiyo_e</td>\n",
       "      <td>NaN</td>\n",
       "      <td>the japanese writing evokes feelings of exotic...</td>\n",
       "      <td>awe</td>\n",
       "      <td>10</td>\n",
       "      <td>1.0</td>\n",
       "    </tr>\n",
       "    <tr>\n",
       "      <th>7</th>\n",
       "      <td>correggio_madonna-with-st-george-1532</td>\n",
       "      <td>correggio</td>\n",
       "      <td>Mannerism_Late_Renaissance</td>\n",
       "      <td>1532.0</td>\n",
       "      <td>the figures are so detailed and there is so mu...</td>\n",
       "      <td>awe</td>\n",
       "      <td>27</td>\n",
       "      <td>1.0</td>\n",
       "    </tr>\n",
       "    <tr>\n",
       "      <th>8</th>\n",
       "      <td>edouard-manet_the-rest-portrait-of-berthe-mori...</td>\n",
       "      <td>edouard-manet</td>\n",
       "      <td>Impressionism</td>\n",
       "      <td>1870.0</td>\n",
       "      <td>the womans bright white dress reminds me of fr...</td>\n",
       "      <td>awe</td>\n",
       "      <td>13</td>\n",
       "      <td>1.0</td>\n",
       "    </tr>\n",
       "    <tr>\n",
       "      <th>9</th>\n",
       "      <td>filippo-lippi_annunciation-1450</td>\n",
       "      <td>filippo-lippi</td>\n",
       "      <td>Early_Renaissance</td>\n",
       "      <td>1450.0</td>\n",
       "      <td>this painting has deep spiritual meaning for m...</td>\n",
       "      <td>awe</td>\n",
       "      <td>11</td>\n",
       "      <td>1.0</td>\n",
       "    </tr>\n",
       "  </tbody>\n",
       "</table>\n",
       "</div>"
      ],
      "text/plain": [
       "                                            painting               artist  \\\n",
       "0            lorenzo-lotto_st-jerome-in-the-desert-1        lorenzo-lotto   \n",
       "1        john-singer-sargent_fumee-d-ambre-gris-1880  john-singer-sargent   \n",
       "2             giovanni-boldini_madame-michelham-1913     giovanni-boldini   \n",
       "3            hans-baldung_adoration-of-the-magi-1507         hans-baldung   \n",
       "4                    fyodor-bronnikov_abandoned-1873     fyodor-bronnikov   \n",
       "5  mabuse_portrait-of-chancellor-jean-carondelet-...               mabuse   \n",
       "6                           ogata-gekko_odori-dancer          ogata-gekko   \n",
       "7              correggio_madonna-with-st-george-1532            correggio   \n",
       "8  edouard-manet_the-rest-portrait-of-berthe-mori...        edouard-manet   \n",
       "9                    filippo-lippi_annunciation-1450        filippo-lippi   \n",
       "\n",
       "                    art_style    year  \\\n",
       "0            High_Renaissance     NaN   \n",
       "1                     Realism  1880.0   \n",
       "2                     Realism  1913.0   \n",
       "3        Northern_Renaissance  1507.0   \n",
       "4                     Realism  1873.0   \n",
       "5        Northern_Renaissance  1517.0   \n",
       "6                     Ukiyo_e     NaN   \n",
       "7  Mannerism_Late_Renaissance  1532.0   \n",
       "8               Impressionism  1870.0   \n",
       "9           Early_Renaissance  1450.0   \n",
       "\n",
       "                                           utterance emotion  len  factor  \n",
       "0  very powerful and strong subjects.  love the u...     awe   23     1.0  \n",
       "1  the detail in the woman's attire is absolutely...     awe   11     1.0  \n",
       "2  the woman's clothing has wonderful curves and ...     awe   11     1.0  \n",
       "3  a precious baby is given all the attention in ...     awe   17     1.0  \n",
       "4  this is beautifully drawn and i feel awe as i ...     awe   33     1.0  \n",
       "5  he has an expression of deep understanding and...     awe   19     1.0  \n",
       "6  the japanese writing evokes feelings of exotic...     awe   10     1.0  \n",
       "7  the figures are so detailed and there is so mu...     awe   27     1.0  \n",
       "8  the womans bright white dress reminds me of fr...     awe   13     1.0  \n",
       "9  this painting has deep spiritual meaning for m...     awe   11     1.0  "
      ]
     },
     "execution_count": 27,
     "metadata": {},
     "output_type": "execute_result"
    }
   ],
   "source": [
    "down_df.head(10)"
   ]
  },
  {
   "cell_type": "code",
   "execution_count": 28,
   "metadata": {},
   "outputs": [],
   "source": [
    "strat = StratifiedShuffleSplit(n_splits=1, test_size=0.3, random_state=SEED)\n",
    "test_strat = StratifiedShuffleSplit(n_splits=1, test_size=1/3, random_state=SEED)"
   ]
  },
  {
   "cell_type": "code",
   "execution_count": 29,
   "metadata": {},
   "outputs": [
    {
     "name": "stdout",
     "output_type": "stream",
     "text": [
      "[ 3724  3759 13395 ... 14324   482  6913]\n"
     ]
    }
   ],
   "source": [
    "train_ind, test_ind = next(strat.split(np.zeros(len(down_df)), down_df[\"emotion\"]))\n",
    "print(train_ind)"
   ]
  },
  {
   "cell_type": "code",
   "execution_count": 30,
   "metadata": {},
   "outputs": [
    {
     "name": "stdout",
     "output_type": "stream",
     "text": [
      "[4934 3875 3340 ... 4831 1390 2343]\n"
     ]
    }
   ],
   "source": [
    "# Get the splits for the valid split\n",
    "test_df = down_df.iloc[test_ind, :]\n",
    "test_ind, valid_ind = next(test_strat.split(np.zeros(len(test_df)), test_df[\"emotion\"]))\n",
    "print(valid_ind)"
   ]
  },
  {
   "cell_type": "code",
   "execution_count": 31,
   "metadata": {},
   "outputs": [
    {
     "data": {
      "text/plain": [
       "set()"
      ]
     },
     "execution_count": 31,
     "metadata": {},
     "output_type": "execute_result"
    }
   ],
   "source": [
    "# Sanity check\n",
    "set(test_ind).intersection(set(valid_ind))"
   ]
  },
  {
   "cell_type": "code",
   "execution_count": 32,
   "metadata": {},
   "outputs": [],
   "source": [
    "train_df = down_df.iloc[train_ind, : ].copy()\n",
    "\n",
    "test_df.reset_index(drop=True, inplace=True)\n",
    "valid_df = test_df.iloc[valid_ind, : ].copy()\n",
    "test_df = test_df.iloc[test_ind, : ].copy()"
   ]
  },
  {
   "cell_type": "code",
   "execution_count": 33,
   "metadata": {},
   "outputs": [],
   "source": [
    "train_df[\"split\"] = \"TRAIN\"\n",
    "valid_df[\"split\"] = \"VALID\"\n",
    "test_df[\"split\"] = \"TEST\"\n",
    "\n",
    "final_df = pd.concat([train_df, valid_df, test_df])"
   ]
  },
  {
   "cell_type": "code",
   "execution_count": 34,
   "metadata": {},
   "outputs": [
    {
     "name": "stdout",
     "output_type": "stream",
     "text": [
      "<class 'pandas.core.frame.DataFrame'>\n",
      "Index: 19000 entries, 3724 to 5021\n",
      "Data columns (total 9 columns):\n",
      " #   Column     Non-Null Count  Dtype  \n",
      "---  ------     --------------  -----  \n",
      " 0   painting   19000 non-null  object \n",
      " 1   artist     19000 non-null  object \n",
      " 2   art_style  19000 non-null  object \n",
      " 3   year       11221 non-null  float64\n",
      " 4   utterance  19000 non-null  object \n",
      " 5   emotion    19000 non-null  object \n",
      " 6   len        19000 non-null  int64  \n",
      " 7   factor     19000 non-null  float64\n",
      " 8   split      19000 non-null  object \n",
      "dtypes: float64(2), int64(1), object(6)\n",
      "memory usage: 1.4+ MB\n"
     ]
    }
   ],
   "source": [
    "final_df.info()"
   ]
  },
  {
   "cell_type": "code",
   "execution_count": 35,
   "metadata": {},
   "outputs": [
    {
     "data": {
      "text/plain": [
       "<Axes: xlabel='split,emotion'>"
      ]
     },
     "execution_count": 35,
     "metadata": {},
     "output_type": "execute_result"
    },
    {
     "data": {
      "image/png": "[encoded data removed]",
      "text/plain": [
       "<Figure size 640x480 with 1 Axes>"
      ]
     },
     "metadata": {},
     "output_type": "display_data"
    }
   ],
   "source": [
    "final_df.groupby([\"split\"])[\"emotion\"].value_counts(normalize=True).plot(kind=\"bar\")"
   ]
  },
  {
   "cell_type": "code",
   "execution_count": 36,
   "metadata": {},
   "outputs": [
    {
     "name": "stdout",
     "output_type": "stream",
     "text": [
      "<class 'pandas.core.frame.DataFrame'>\n",
      "Index: 19000 entries, 3724 to 5021\n",
      "Data columns (total 9 columns):\n",
      " #   Column     Non-Null Count  Dtype  \n",
      "---  ------     --------------  -----  \n",
      " 0   painting   19000 non-null  object \n",
      " 1   artist     19000 non-null  object \n",
      " 2   art_style  19000 non-null  object \n",
      " 3   year       11221 non-null  float64\n",
      " 4   utterance  19000 non-null  object \n",
      " 5   emotion    19000 non-null  object \n",
      " 6   len        19000 non-null  int64  \n",
      " 7   factor     19000 non-null  float64\n",
      " 8   split      19000 non-null  object \n",
      "dtypes: float64(2), int64(1), object(6)\n",
      "memory usage: 1.4+ MB\n"
     ]
    }
   ],
   "source": [
    "final_df.info()"
   ]
  },
  {
   "cell_type": "code",
   "execution_count": 37,
   "metadata": {},
   "outputs": [
    {
     "data": {
      "text/html": [
       "<div>\n",
       "<style scoped>\n",
       "    .dataframe tbody tr th:only-of-type {\n",
       "        vertical-align: middle;\n",
       "    }\n",
       "\n",
       "    .dataframe tbody tr th {\n",
       "        vertical-align: top;\n",
       "    }\n",
       "\n",
       "    .dataframe thead th {\n",
       "        text-align: right;\n",
       "    }\n",
       "</style>\n",
       "<table border=\"1\" class=\"dataframe\">\n",
       "  <thead>\n",
       "    <tr style=\"text-align: right;\">\n",
       "      <th></th>\n",
       "      <th>painting</th>\n",
       "      <th>artist</th>\n",
       "      <th>art_style</th>\n",
       "      <th>year</th>\n",
       "      <th>utterance</th>\n",
       "      <th>emotion</th>\n",
       "      <th>len</th>\n",
       "      <th>factor</th>\n",
       "      <th>split</th>\n",
       "    </tr>\n",
       "  </thead>\n",
       "  <tbody>\n",
       "    <tr>\n",
       "      <th>17238</th>\n",
       "      <td>pieter-bruegel-the-elder_james-the-late-empero...</td>\n",
       "      <td>pieter-bruegel-the-elder</td>\n",
       "      <td>Northern_Renaissance</td>\n",
       "      <td>1565.0</td>\n",
       "      <td>trying to explain my inability to turn my brai...</td>\n",
       "      <td>something else</td>\n",
       "      <td>13</td>\n",
       "      <td>1.0</td>\n",
       "      <td>TRAIN</td>\n",
       "    </tr>\n",
       "    <tr>\n",
       "      <th>4139</th>\n",
       "      <td>santiago-rusinol_figure-study</td>\n",
       "      <td>santiago-rusinol</td>\n",
       "      <td>Impressionism</td>\n",
       "      <td>NaN</td>\n",
       "      <td>i love the intimate feel of the scene and soft...</td>\n",
       "      <td>contentment</td>\n",
       "      <td>14</td>\n",
       "      <td>2.5</td>\n",
       "      <td>TRAIN</td>\n",
       "    </tr>\n",
       "    <tr>\n",
       "      <th>2707</th>\n",
       "      <td>giovanni-domenico-tiepolo_chinese-prince-in-fo...</td>\n",
       "      <td>giovanni-domenico-tiepolo</td>\n",
       "      <td>Rococo</td>\n",
       "      <td>1757.0</td>\n",
       "      <td>the woman on the left looks like she's up to n...</td>\n",
       "      <td>fear</td>\n",
       "      <td>27</td>\n",
       "      <td>1.0</td>\n",
       "      <td>TEST</td>\n",
       "    </tr>\n",
       "    <tr>\n",
       "      <th>4851</th>\n",
       "      <td>albert-marquet_nude-on-a-blue-background-1913</td>\n",
       "      <td>albert-marquet</td>\n",
       "      <td>Post_Impressionism</td>\n",
       "      <td>1913.0</td>\n",
       "      <td>the body is so beautifully drawn while allowin...</td>\n",
       "      <td>awe</td>\n",
       "      <td>32</td>\n",
       "      <td>1.0</td>\n",
       "      <td>TEST</td>\n",
       "    </tr>\n",
       "    <tr>\n",
       "      <th>5011</th>\n",
       "      <td>andy-warhol_maria-shriver-1986</td>\n",
       "      <td>andy-warhol</td>\n",
       "      <td>Pop_Art</td>\n",
       "      <td>1986.0</td>\n",
       "      <td>she looks fun and reminds me of glam rockers f...</td>\n",
       "      <td>excitement-amusement</td>\n",
       "      <td>13</td>\n",
       "      <td>1.0</td>\n",
       "      <td>TEST</td>\n",
       "    </tr>\n",
       "    <tr>\n",
       "      <th>3736</th>\n",
       "      <td>mikhail-vrubel_moses-1884</td>\n",
       "      <td>mikhail-vrubel</td>\n",
       "      <td>Art_Nouveau_Modern</td>\n",
       "      <td>1884.0</td>\n",
       "      <td>the religious figure has a fixed, stern look t...</td>\n",
       "      <td>awe</td>\n",
       "      <td>18</td>\n",
       "      <td>1.0</td>\n",
       "      <td>TEST</td>\n",
       "    </tr>\n",
       "    <tr>\n",
       "      <th>1938</th>\n",
       "      <td>antoine-blanchard_les-grands-boulevards-sous-l...</td>\n",
       "      <td>antoine-blanchard</td>\n",
       "      <td>Impressionism</td>\n",
       "      <td>NaN</td>\n",
       "      <td>those white horses get around, even on a snowy...</td>\n",
       "      <td>awe</td>\n",
       "      <td>38</td>\n",
       "      <td>1.0</td>\n",
       "      <td>TRAIN</td>\n",
       "    </tr>\n",
       "    <tr>\n",
       "      <th>2383</th>\n",
       "      <td>vasily-perov_lent-monday-1866</td>\n",
       "      <td>vasily-perov</td>\n",
       "      <td>Realism</td>\n",
       "      <td>1866.0</td>\n",
       "      <td>it looks like they are carrying beaver tails.</td>\n",
       "      <td>excitement-amusement</td>\n",
       "      <td>9</td>\n",
       "      <td>1.0</td>\n",
       "      <td>TEST</td>\n",
       "    </tr>\n",
       "    <tr>\n",
       "      <th>11648</th>\n",
       "      <td>pierre-bonnard_the-cock-and-the-hen</td>\n",
       "      <td>pierre-bonnard</td>\n",
       "      <td>Post_Impressionism</td>\n",
       "      <td>NaN</td>\n",
       "      <td>the simple drawing of the chicken reminds me o...</td>\n",
       "      <td>excitement-amusement</td>\n",
       "      <td>18</td>\n",
       "      <td>1.0</td>\n",
       "      <td>TRAIN</td>\n",
       "    </tr>\n",
       "    <tr>\n",
       "      <th>4640</th>\n",
       "      <td>lucian-freud_girl-sitting-in-the-attic-doorway</td>\n",
       "      <td>lucian-freud</td>\n",
       "      <td>Expressionism</td>\n",
       "      <td>NaN</td>\n",
       "      <td>i feel like she is a woman trapped into someth...</td>\n",
       "      <td>sadness</td>\n",
       "      <td>20</td>\n",
       "      <td>1.0</td>\n",
       "      <td>TEST</td>\n",
       "    </tr>\n",
       "  </tbody>\n",
       "</table>\n",
       "</div>"
      ],
      "text/plain": [
       "                                                painting  \\\n",
       "17238  pieter-bruegel-the-elder_james-the-late-empero...   \n",
       "4139                       santiago-rusinol_figure-study   \n",
       "2707   giovanni-domenico-tiepolo_chinese-prince-in-fo...   \n",
       "4851       albert-marquet_nude-on-a-blue-background-1913   \n",
       "5011                      andy-warhol_maria-shriver-1986   \n",
       "3736                           mikhail-vrubel_moses-1884   \n",
       "1938   antoine-blanchard_les-grands-boulevards-sous-l...   \n",
       "2383                       vasily-perov_lent-monday-1866   \n",
       "11648                pierre-bonnard_the-cock-and-the-hen   \n",
       "4640      lucian-freud_girl-sitting-in-the-attic-doorway   \n",
       "\n",
       "                          artist             art_style    year  \\\n",
       "17238   pieter-bruegel-the-elder  Northern_Renaissance  1565.0   \n",
       "4139            santiago-rusinol         Impressionism     NaN   \n",
       "2707   giovanni-domenico-tiepolo                Rococo  1757.0   \n",
       "4851              albert-marquet    Post_Impressionism  1913.0   \n",
       "5011                 andy-warhol               Pop_Art  1986.0   \n",
       "3736              mikhail-vrubel    Art_Nouveau_Modern  1884.0   \n",
       "1938           antoine-blanchard         Impressionism     NaN   \n",
       "2383                vasily-perov               Realism  1866.0   \n",
       "11648             pierre-bonnard    Post_Impressionism     NaN   \n",
       "4640                lucian-freud         Expressionism     NaN   \n",
       "\n",
       "                                               utterance  \\\n",
       "17238  trying to explain my inability to turn my brai...   \n",
       "4139   i love the intimate feel of the scene and soft...   \n",
       "2707   the woman on the left looks like she's up to n...   \n",
       "4851   the body is so beautifully drawn while allowin...   \n",
       "5011   she looks fun and reminds me of glam rockers f...   \n",
       "3736   the religious figure has a fixed, stern look t...   \n",
       "1938   those white horses get around, even on a snowy...   \n",
       "2383       it looks like they are carrying beaver tails.   \n",
       "11648  the simple drawing of the chicken reminds me o...   \n",
       "4640   i feel like she is a woman trapped into someth...   \n",
       "\n",
       "                    emotion  len  factor  split  \n",
       "17238        something else   13     1.0  TRAIN  \n",
       "4139            contentment   14     2.5  TRAIN  \n",
       "2707                   fear   27     1.0   TEST  \n",
       "4851                    awe   32     1.0   TEST  \n",
       "5011   excitement-amusement   13     1.0   TEST  \n",
       "3736                    awe   18     1.0   TEST  \n",
       "1938                    awe   38     1.0  TRAIN  \n",
       "2383   excitement-amusement    9     1.0   TEST  \n",
       "11648  excitement-amusement   18     1.0  TRAIN  \n",
       "4640                sadness   20     1.0   TEST  "
      ]
     },
     "execution_count": 37,
     "metadata": {},
     "output_type": "execute_result"
    }
   ],
   "source": [
    "final_df.sample(10, random_state=SEED)"
   ]
  },
  {
   "cell_type": "code",
   "execution_count": 38,
   "metadata": {},
   "outputs": [
    {
     "name": "stdout",
     "output_type": "stream",
     "text": [
      "13300\n",
      "1900\n",
      "3800\n"
     ]
    }
   ],
   "source": [
    "print(len(final_df[final_df[\"split\"] == \"TRAIN\"]))\n",
    "print(len(final_df[final_df[\"split\"] == \"VALID\"]))\n",
    "print(len(final_df[final_df[\"split\"] == \"TEST\"]))"
   ]
  },
  {
   "cell_type": "code",
   "execution_count": 39,
   "metadata": {},
   "outputs": [],
   "source": [
    "final_df.sort_values(by=\"split\", inplace=True, ignore_index=True)"
   ]
  },
  {
   "cell_type": "code",
   "execution_count": 40,
   "metadata": {},
   "outputs": [],
   "source": [
    "# Save it\n",
    "# final_df.to_csv(\"../data/final-splits.csv\", index=False, header=True)"
   ]
  }
 ],
 "metadata": {
  "kernelspec": {
   "display_name": "deep_learning",
   "language": "python",
   "name": "python3"
  },
  "language_info": {
   "codemirror_mode": {
    "name": "ipython",
    "version": 3
   },
   "file_extension": ".py",
   "mimetype": "text/x-python",
   "name": "python",
   "nbconvert_exporter": "python",
   "pygments_lexer": "ipython3",
   "version": "3.11.4"
  }
 },
 "nbformat": 4,
 "nbformat_minor": 2
}
